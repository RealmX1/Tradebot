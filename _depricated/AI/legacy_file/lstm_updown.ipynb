{
 "cells": [
  {
   "cell_type": "code",
   "execution_count": 1,
   "metadata": {},
   "outputs": [
    {
     "name": "stdout",
     "output_type": "stream",
     "text": [
      "cuda\n"
     ]
    }
   ],
   "source": [
    "import pandas as pd # data processing, CSV file I/O (e.g. pd.read_csv)\n",
    "import torch # PyTorch\n",
    "import torch.nn as nn # PyTorch neural network module\n",
    "from torch.utils.data import Dataset, DataLoader # PyTorch data utilities\n",
    "from torch.optim.lr_scheduler import ReduceLROnPlateau\n",
    "from torch.optim import AdamW, SGD\n",
    "# from apex.optimizers import FusedLAMB\n",
    "\n",
    "import matplotlib.pyplot as plt\n",
    "import os\n",
    "import numpy as np\n",
    "import time\n",
    "import gc\n",
    "import atexit\n",
    "import copy\n",
    "import random\n",
    "import json\n",
    "import csv\n",
    "from datetime import datetime\n",
    "import sys\n",
    "np.set_printoptions(precision=4, suppress=True) \n",
    "\n",
    "sys.path.append('../')"
   ]
  },
  {
   "cell_type": "code",
   "execution_count": null,
   "metadata": {},
   "outputs": [],
   "source": [
    "# import custom files\n",
    "from S2S import *\n",
    "from data_utils import * \n",
    "from model_structure_param import * # Define hyperparameters\n",
    "from plot_util import *\n",
    "from common import *\n",
    "from transformer import *"
   ]
  },
  {
   "cell_type": "code",
   "execution_count": null,
   "metadata": {},
   "outputs": [],
   "source": [
    "header = ['background_up', 'up_change_pred_pct', 'up_change_pred_precision', \\\n",
    "          'background_dn', 'dn_change_pred_pct', 'dn_change_pred_precision', \\\n",
    "            'background_none', 'none_change_pred_pct', 'none_change_pred_precision', \\\n",
    "                'accuracy', 'accuracy_lst', \\\n",
    "                    'pred_thres_change_accuracy', 'pred_thres_change_accuracy_lst', \\\n",
    "                        'pred_thres_change_precision', 'pred_thres_change_percision_lst', \\\n",
    "                            'pred_thres_actual_change_precision', 'pred_thres_actual_change_precision_lst', 'pred_thres_up_actual_precision', 'pred_thres_dn_actual_precision',\\\n",
    "                                'model_pth', 'time', 'best_k', 'epoch_num']"
   ]
  },
  {
   "cell_type": "code",
   "execution_count": null,
   "metadata": {},
   "outputs": [],
   "source": [
    "device = torch.device('cuda' if torch.cuda.is_available() else 'cpu')\n",
    "loss_fn = nn.MSELoss(reduction = 'none')\n",
    "torch.autograd.set_detect_anomaly(True)\n",
    "print (device)"
   ]
  },
  {
   "cell_type": "code",
   "execution_count": null,
   "metadata": {},
   "outputs": [],
   "source": [
    "def get_direct_diff(y_batch,y_pred):\n",
    "    y_batch_below_threshold = np.zeros_like(y_batch, dtype=bool)\n",
    "    y_batch_below_threshold[np.abs(y_batch) < policy_threshold] = True\n",
    "    actual_direct = np.clip(y_batch, 0, np.inf) # this turns negative to 0\n",
    "    actual_direct[actual_direct != 0] = 1\n",
    "    actual_direct[actual_direct == 0] = -1 # turns positive to 1\n",
    "    actual_thres_direct = actual_direct.copy()\n",
    "    actual_thres_direct[y_batch_below_threshold] = 0\n",
    "\n",
    "    y_pred_below_threshold = np.zeros_like(y_pred, dtype=bool)\n",
    "    y_pred_below_threshold[np.abs(y_pred) < policy_threshold] = True\n",
    "    pred_direct = np.clip(y_pred, 0, np.inf) # turn all \n",
    "    pred_direct[pred_direct != 0] = 1\n",
    "    pred_direct[pred_direct == 0] = -1\n",
    "    pred_thres_direct = pred_direct.copy()\n",
    "    pred_thres_direct[y_pred_below_threshold] = 0\n",
    "\n",
    "\n",
    "\n",
    "    batch_size  = y_batch.shape[0]\n",
    "    pred_window = y_batch.shape[1]\n",
    "\n",
    "    all_cells_lst = np.full((pred_window,), batch_size)\n",
    "    all_cells = batch_size * pred_window\n",
    "\n",
    "    same_thres_cells_lst = np.count_nonzero(actual_thres_direct == pred_thres_direct, axis = 0)\n",
    "    same_thres_cells = np.count_nonzero(actual_thres_direct == pred_thres_direct)\n",
    "\n",
    "    actual_thres_change_lst = np.count_nonzero(actual_thres_direct != 0, axis = 0)\n",
    "    true_pred_thres_change_lst = np.count_nonzero((actual_thres_direct == pred_thres_direct) & (actual_thres_direct != 0), axis = 0)\n",
    "    all_pred_thres_change_lst = np.count_nonzero(pred_thres_direct != 0, axis = 0)\n",
    "\n",
    "    actual_thres_change = np.sum(actual_thres_change_lst)\n",
    "    true_pred_thres_change = np.sum(true_pred_thres_change_lst)\n",
    "    all_pred_thres_change = np.sum(all_pred_thres_change_lst)\n",
    "    \n",
    "    t_thres_up = np.sum((actual_thres_direct == 1) & (pred_thres_direct == 1))\n",
    "    f_thres_up = np.sum((actual_thres_direct != 1) & (pred_thres_direct == 1))\n",
    "\n",
    "    t_thres_dn = np.sum((actual_thres_direct == -1) & (pred_thres_direct == -1))\n",
    "    f_thres_dn = np.sum((actual_thres_direct != -1) & (pred_thres_direct == -1))\n",
    "\n",
    "    t_thres_no = np.sum((actual_thres_direct == 0) & (pred_thres_direct == 0))\n",
    "    f_thres_no = np.sum((actual_thres_direct != 0) & (pred_thres_direct == 0))\n",
    "\n",
    "    actual_thres_up = np.sum(actual_thres_direct == 1)\n",
    "    actual_thres_dn = np.sum(actual_thres_direct == -1)\n",
    "    actual_thres_no = np.sum(actual_thres_direct == 0)\n",
    "\n",
    "    assert actual_thres_up + actual_thres_dn + actual_thres_no == all_cells\n",
    "    assert t_thres_up + f_thres_up + t_thres_dn + f_thres_dn + t_thres_no + f_thres_no == all_cells\n",
    "    assert same_thres_cells == t_thres_up + t_thres_dn + t_thres_no, f'{same_thres_cells} != {t_thres_up} + {t_thres_dn} + {t_thres_no}'\n",
    "\n",
    "\n",
    "\n",
    "    pred_thres_up_actual_up_lst = np.sum((actual_direct == 1) & (pred_thres_direct == 1), axis = 0)\n",
    "    pred_thres_dn_actual_dn_lst = np.sum((actual_direct == -1) & (pred_thres_direct == -1), axis = 0)\n",
    "    pred_thres_up_actual_up = np.sum(pred_thres_up_actual_up_lst)\n",
    "    pred_thres_dn_actual_dn = np.sum(pred_thres_dn_actual_dn_lst)\n",
    "\n",
    "    true_pred_thres_actual_change_lst = pred_thres_up_actual_up_lst + pred_thres_dn_actual_dn_lst\n",
    "    true_pred_thres_actual_change = np.sum(true_pred_thres_actual_change_lst)\n",
    "\n",
    "    pred_thres_up = np.sum(pred_thres_direct == 1)\n",
    "\n",
    "    # print('get_direct_diff time: ', time.time()-start_time)\n",
    "\n",
    "    return all_cells, same_thres_cells, \\\n",
    "            all_cells_lst, same_thres_cells_lst, \\\n",
    "            \\\n",
    "            actual_thres_up, actual_thres_dn, actual_thres_no, \\\n",
    "            t_thres_up, f_thres_up, t_thres_dn, f_thres_dn, t_thres_no, f_thres_no, \\\n",
    "            \\\n",
    "            actual_thres_change, all_pred_thres_change, true_pred_thres_change, true_pred_thres_actual_change, pred_thres_up_actual_up, pred_thres_dn_actual_dn, pred_thres_up,\\\n",
    "            actual_thres_change_lst, all_pred_thres_change_lst, true_pred_thres_change_lst, true_pred_thres_actual_change_lst"
   ]
  }
 ],
 "metadata": {
  "kernelspec": {
   "display_name": "tf-wsl",
   "language": "python",
   "name": "python3"
  },
  "language_info": {
   "codemirror_mode": {
    "name": "ipython",
    "version": 3
   },
   "file_extension": ".py",
   "mimetype": "text/x-python",
   "name": "python",
   "nbconvert_exporter": "python",
   "pygments_lexer": "ipython3",
   "version": "3.8.16"
  },
  "orig_nbformat": 4
 },
 "nbformat": 4,
 "nbformat_minor": 2
}
