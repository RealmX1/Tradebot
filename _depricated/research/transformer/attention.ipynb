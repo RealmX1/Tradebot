{
 "cells": [
  {
   "cell_type": "code",
   "execution_count": 19,
   "metadata": {},
   "outputs": [],
   "source": [
    "import torch\n",
    "import torch.nn as nn\n",
    "import torch.nn.functional as F\n",
    "import math"
   ]
  },
  {
   "cell_type": "code",
   "execution_count": 21,
   "metadata": {},
   "outputs": [
    {
     "data": {
      "text/plain": [
       "torch.Size([1000, 60, 23])"
      ]
     },
     "execution_count": 21,
     "metadata": {},
     "output_type": "execute_result"
    }
   ],
   "source": [
    "batch_size = 1000\n",
    "seq_len = 60\n",
    "d_model = hidden_size = 128\n",
    "input_dim = feature_num = 23\n",
    "x = torch.randn(batch_size, seq_len, input_dim)\n",
    "x.shape\n"
   ]
  },
  {
   "cell_type": "code",
   "execution_count": 22,
   "metadata": {},
   "outputs": [],
   "source": [
    "qkv_layer = nn.Linear(input_dim, 3 * d_model)\n",
    "qkv = qkv_layer(x)\n",
    "# qkv: (batch_size, seq_len, 3 * d_model)"
   ]
  },
  {
   "cell_type": "code",
   "execution_count": 23,
   "metadata": {},
   "outputs": [],
   "source": [
    "head_num = 8\n",
    "head_dim = d_model // head_num\n",
    "assert head_dim * head_num == d_model, \"d_model must be divisible by head_num\"\n",
    "\n",
    "qkv = qkv.view(batch_size, seq_len, head_num, 3 * head_dim)\n",
    "qkv = qkv.permute(0, 2, 1, 3) # (batch_size, head_num, seq_len, 3 * head_dim) \n",
    "# This makes it easier to perform parrellel copmutation on \"seq_len\" and \"3*head_dim\"\n",
    "\n",
    "q,k,v = qkv.split([head_dim, head_dim, head_dim], dim=-1)\n",
    "# each output: (batch_size, head_num, seq_len, head_dim)"
   ]
  },
  {
   "attachments": {},
   "cell_type": "markdown",
   "metadata": {},
   "source": [
    "Self Attention"
   ]
  },
  {
   "cell_type": "code",
   "execution_count": 27,
   "metadata": {},
   "outputs": [],
   "source": [
    "# SELF ATTENTION\n",
    "d_k = q.shape[-1]\n",
    "scaled = torch.matmul(q,k.transpose(-2,-1)) / math.sqrt(d_k)\n",
    "# scaled: (batch_size, head_num, seq_len, seq_len)\n",
    "\n",
    "mask = torch.full(scaled.shape, float('-inf'))\n",
    "mask = torch.triu(mask, diagonal=1)\n",
    "\n",
    "scaled += mask\n",
    "scaled[0][0]\n",
    "\n",
    "attention = torch.softmax(scaled, dim=-1) # attention along the last seq_len dimension"
   ]
  },
  {
   "cell_type": "code",
   "execution_count": 28,
   "metadata": {},
   "outputs": [
    {
     "data": {
      "text/plain": [
       "torch.Size([1000, 8, 60, 16])"
      ]
     },
     "execution_count": 28,
     "metadata": {},
     "output_type": "execute_result"
    }
   ],
   "source": [
    "values = torch.matmul(attention, v)\n",
    "# values: (batch_size, head_num, seq_len, head_dim)\n",
    "values.shape"
   ]
  },
  {
   "cell_type": "code",
   "execution_count": 29,
   "metadata": {},
   "outputs": [],
   "source": [
    "# combining the above steps into a function:\n",
    "def scaled_dot_attentio(q,k,v,mask = None): # mask for decoder\n",
    "    # q,k,v: (batch_size, head_num, seq_len, head_dim)\n",
    "    d_k = q.shape[-1] # head_dim\n",
    "    scaled = torch.matmul(q,k.transpose(-2,-1)) / math.sqrt(d_k)\n",
    "    if mask is not None:\n",
    "        scaled += mask\n",
    "    attention = torch.softmax(scaled, dim=-1) # attention along the last seq_len dimension\n",
    "    values = torch.matmul(attention, v)\n",
    "    return values, attention\n",
    "    # values: (batch_size, head_num, seq_len, head_dim)\n",
    "    # attention: (batch_size, head_num, seq_len, seq_len)"
   ]
  },
  {
   "cell_type": "code",
   "execution_count": 30,
   "metadata": {},
   "outputs": [
    {
     "name": "stdout",
     "output_type": "stream",
     "text": [
      "torch.Size([1000, 8, 60, 60])\n",
      "tensor([[1.0000, 0.0000, 0.0000,  ..., 0.0000, 0.0000, 0.0000],\n",
      "        [0.4422, 0.5578, 0.0000,  ..., 0.0000, 0.0000, 0.0000],\n",
      "        [0.2279, 0.2571, 0.5149,  ..., 0.0000, 0.0000, 0.0000],\n",
      "        ...,\n",
      "        [0.0107, 0.0124, 0.0127,  ..., 0.0255, 0.0000, 0.0000],\n",
      "        [0.0078, 0.0177, 0.0128,  ..., 0.0134, 0.0091, 0.0000],\n",
      "        [0.0181, 0.0275, 0.0166,  ..., 0.0114, 0.0074, 0.0141]],\n",
      "       grad_fn=<SelectBackward0>)\n"
     ]
    }
   ],
   "source": [
    "values, attention = scaled_dot_attentio(q,k,v, mask = mask)\n",
    "print(attention.shape)\n",
    "print(attention[0][0])"
   ]
  },
  {
   "cell_type": "code",
   "execution_count": 31,
   "metadata": {},
   "outputs": [
    {
     "data": {
      "text/plain": [
       "torch.Size([1000, 60, 128])"
      ]
     },
     "execution_count": 31,
     "metadata": {},
     "output_type": "execute_result"
    }
   ],
   "source": [
    "values = values.reshape(batch_size, seq_len, head_num * head_dim)\n",
    "values.shape\n",
    "# values: (batch_size, seq_len, d_model)"
   ]
  },
  {
   "cell_type": "code",
   "execution_count": 35,
   "metadata": {},
   "outputs": [],
   "source": [
    "class MultiheadAttention(nn.Module):\n",
    "    def __init__(self, input_dim, d_model, num_heads):\n",
    "        super().__init__()\n",
    "        self.input_dim = input_dim\n",
    "        self.d_model = d_model\n",
    "        self.num_heads = num_heads\n",
    "        self.head_dim = d_model // num_heads\n",
    "        assert self.head_dim * num_heads == d_model, \"d_model must be divisible by num_heads\"\n",
    "        self.qkv_layer = nn.Linear(input_dim, 3 * d_model)\n",
    "        self.output_layer = nn.Linear(d_model, d_model)\n",
    "    \n",
    "    def forward(self, x, mask = None):\n",
    "        batch_size, seq_len, input_dim = x.shape\n",
    "        assert input_dim == self.input_dim, \"input_dim must be equal to self.input_dim\"\n",
    "        qkv = self.qkv_layer(x)\n",
    "        qkv = qkv.view(batch_size, seq_len, self.num_heads, 3 * self.head_dim)\n",
    "        qkv = qkv.permute(0, 2, 1, 3) # (batch_size, head_num, seq_len, 3 * head_dim)\n",
    "        q,k,v = qkv.split([self.head_dim, self.head_dim, self.head_dim], dim=-1)\n",
    "        values, attention = scaled_dot_attentio(q,k,v, mask = mask)\n",
    "        values = values.reshape(batch_size, seq_len, self.d_model)\n",
    "        output = self.output_layer(values)\n",
    "        return output, attention\n",
    "    # output: (batch_size, seq_len, d_model)\n",
    "    # attention: (batch_size, head_num, seq_len, seq_len)\n"
   ]
  },
  {
   "cell_type": "code",
   "execution_count": 38,
   "metadata": {},
   "outputs": [
    {
     "name": "stdout",
     "output_type": "stream",
     "text": [
      "torch.Size([1000, 60, 128])\n",
      "torch.Size([1000, 8, 60, 60])\n"
     ]
    }
   ],
   "source": [
    "model = MultiheadAttention(input_dim, d_model, head_num)\n",
    "output, attention = model(x, mask = mask)\n",
    "print(output.shape)\n",
    "print(attention.shape)"
   ]
  },
  {
   "cell_type": "code",
   "execution_count": null,
   "metadata": {},
   "outputs": [],
   "source": []
  }
 ],
 "metadata": {
  "kernelspec": {
   "display_name": "tf-wsl",
   "language": "python",
   "name": "python3"
  },
  "language_info": {
   "codemirror_mode": {
    "name": "ipython",
    "version": 3
   },
   "file_extension": ".py",
   "mimetype": "text/x-python",
   "name": "python",
   "nbconvert_exporter": "python",
   "pygments_lexer": "ipython3",
   "version": "3.8.16"
  },
  "orig_nbformat": 4
 },
 "nbformat": 4,
 "nbformat_minor": 2
}
