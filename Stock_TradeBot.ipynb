{
  "cells": [
    {
      "cell_type": "markdown",
      "metadata": {
        "id": "-XAPWIywyNMk"
      },
      "source": [
        "### Environment Setup"
      ]
    },
    {
      "cell_type": "markdown",
      "metadata": {
        "id": "sg6q5sTdQZJ5"
      },
      "source": [
        "#### Option1: Upload files on the run\n",
        "This entails that the requirement, key, and data need to download again whenever the colab session ends."
      ]
    },
    {
      "cell_type": "code",
      "execution_count": null,
      "metadata": {
        "id": "tjIhn2SxHX-v"
      },
      "outputs": [],
      "source": [
        "# Creating directories\n",
        "!mkdir -p data/raw_download data/raw_combine data/train data/test"
      ]
    },
    {
      "cell_type": "code",
      "execution_count": null,
      "metadata": {
        "id": "OkV4acUJ78dC"
      },
      "outputs": [],
      "source": [
        "from google.colab import files\n",
        "import os\n",
        "\n",
        "def upload_file():\n",
        "    uploaded = files.upload()\n",
        "\n",
        "    for fn in uploaded.keys():\n",
        "\n",
        "        # Check if file with same name exists, and remove it if it does\n",
        "        if os.path.exists(fn):\n",
        "            os.remove(fn)\n",
        "\n",
        "        # Write the new file\n",
        "        with open(fn, 'wb') as file:\n",
        "            file.write(uploaded[fn])\n",
        "\n",
        "        print('User uploaded file \"{name}\" with length {length} bytes'.format(\n",
        "            name=fn, length=len(uploaded[fn])))"
      ]
    },
    {
      "cell_type": "code",
      "execution_count": null,
      "metadata": {
        "colab": {
          "base_uri": "https://localhost:8080/",
          "height": 125
        },
        "id": "QlfjKq7o-X-b",
        "outputId": "fcdf2639-0b9c-4845-e3ed-cf8e314b6cc1"
      },
      "outputs": [],
      "source": [
        "# upload package requirements\n",
        "file_name = \"requirements.txt\"\n",
        "if os.path.exists(file_name):\n",
        "    os.remove(file_name)\n",
        "upload_file()"
      ]
    },
    {
      "cell_type": "code",
      "execution_count": null,
      "metadata": {
        "colab": {
          "base_uri": "https://localhost:8080/",
          "height": 74
        },
        "id": "OkRtGXMtAyyw",
        "outputId": "32053b9f-d441-437c-b0c2-e16f5f8e423a"
      },
      "outputs": [],
      "source": [
        "# upload _alpaca_api_key.key\n",
        "key_file_name = \"_alpaca_api_key.key\"\n",
        "if os.path.exists(key_file_name):\n",
        "    os.remove(key_file_name)\n",
        "upload_file()"
      ]
    },
    {
      "cell_type": "markdown",
      "metadata": {
        "id": "uqlKD5s6Ntz-"
      },
      "source": [
        "#### Option 2: Mounting to google drive, and upload file to google drive\n",
        "create MSML602/Final folder in main page of google drive. upload requirements.txt, key, and data folder to that location."
      ]
    },
    {
      "cell_type": "code",
      "execution_count": null,
      "metadata": {
        "colab": {
          "base_uri": "https://localhost:8080/"
        },
        "id": "CVL50qzINz9p",
        "outputId": "b33f994b-1164-4ce4-8668-eb581449ced8"
      },
      "outputs": [],
      "source": [
        "from google.colab import drive\n",
        "drive.mount('/content/drive')"
      ]
    },
    {
      "cell_type": "markdown",
      "metadata": {
        "id": "VmXIYXiTR-KI"
      },
      "source": [
        "set the folder as working directory"
      ]
    },
    {
      "cell_type": "code",
      "execution_count": null,
      "metadata": {
        "colab": {
          "base_uri": "https://localhost:8080/"
        },
        "id": "H6RHi3dsPi08",
        "outputId": "a5f2e375-ba9a-4a19-b6d2-d83bf71c1e75"
      },
      "outputs": [],
      "source": [
        "%cd /content/drive/MyDrive/MSML602/Final"
      ]
    },
    {
      "cell_type": "markdown",
      "metadata": {
        "id": "kCelZF0URdG8"
      },
      "source": [
        "#### Install packages, setup dir, and environment variables"
      ]
    },
    {
      "cell_type": "code",
      "execution_count": null,
      "metadata": {
        "colab": {
          "base_uri": "https://localhost:8080/"
        },
        "id": "IWbfpN9S8e_9",
        "outputId": "b8656b09-b45c-4462-a02c-429aded0630f"
      },
      "outputs": [],
      "source": [
        "!pip install -r requirements.txt"
      ]
    },
    {
      "cell_type": "code",
      "execution_count": null,
      "metadata": {
        "colab": {
          "base_uri": "https://localhost:8080/",
          "height": 337
        },
        "id": "tbvxYT0r-8cJ",
        "outputId": "629d93c1-b5c2-4982-aeaa-9839e6a2b0a8"
      },
      "outputs": [],
      "source": [
        "!pip install --upgrade typing"
      ]
    },
    {
      "cell_type": "markdown",
      "metadata": {
        "id": "zdXJB72BnWfC"
      },
      "source": [
        "####After finish running the above code, restart session through \"Runtime-Restart Session\", before running the remaining of the code;\n",
        "**Note that if option 2 is selected for file management, after session restart, cells in it need to be re-run to re-mount the drive.**\n",
        "\n",
        "---\n",
        "\n"
      ]
    },
    {
      "cell_type": "markdown",
      "metadata": {
        "id": "niVP1Dc51JDp"
      },
      "source": [
        "#### Library Import"
      ]
    },
    {
      "cell_type": "code",
      "execution_count": 1,
      "metadata": {
        "id": "fQ2KmNR6BEi-"
      },
      "outputs": [],
      "source": [
        "# Read the API key and secret from _alpaca_api_key.key and store them in variables.\n",
        "def parse_keys(filename):\n",
        "    keys = {}\n",
        "    with open(filename, 'r') as file:\n",
        "        for line in file:\n",
        "            if '=' in line:\n",
        "                key, value = line.strip().split('=', 1)\n",
        "                keys[key.strip()] = value.strip()\n",
        "    return keys\n",
        "\n",
        "keys = parse_keys(\"alpaca_api/_alpaca_api_key.key\")\n",
        "# =>\n",
        "# keys = parse_keys(\"_alpaca_api_key.key\")\n",
        "\n",
        "API_KEY = keys.get('API_KEY')\n",
        "SECRET_KEY = keys.get('SECRET_KEY')"
      ]
    },
    {
      "cell_type": "code",
      "execution_count": 2,
      "metadata": {
        "id": "-Tdk4SGY8736"
      },
      "outputs": [],
      "source": [
        "# api = tradeapi.REST('<APCA-API-KEY-ID>', '<APCA-API-SECRET-KEY>', api_version=\n",
        "import pandas as pd\n",
        "pd.set_option('display.max_rows', None)\n",
        "import pandas_ta as ta\n",
        "import numpy as np\n",
        "import scipy as sp\n",
        "import time\n",
        "import json\n",
        "import matplotlib.pyplot as plt\n",
        "import os\n",
        "import ast\n",
        "from datetime import datetime\n",
        "from enum import Enum\n",
        "# import copy\n",
        "# import threading\n",
        "import os\n",
        "from datetime import datetime, timedelta\n",
        "from dateutil.relativedelta import relativedelta\n",
        "# from string import Template\n",
        "\n",
        "from alpaca.data import Trade, Snapshot, Quote, Bar\n",
        "from alpaca.data.historical import StockHistoricalDataClient\n",
        "from alpaca.data.requests import (\n",
        "    StockBarsRequest,\n",
        "    StockQuotesRequest,\n",
        "    StockTradesRequest,\n",
        "    StockLatestTradeRequest,\n",
        "    StockLatestQuoteRequest,\n",
        "    StockSnapshotRequest,\n",
        "    StockLatestBarRequest,\n",
        ")\n",
        "from alpaca.data.timeframe import TimeFrame\n",
        "from alpaca.data.enums import Exchange, DataFeed\n",
        "from alpaca.data.models import BarSet, QuoteSet, TradeSet"
      ]
    },
    {
      "cell_type": "markdown",
      "metadata": {
        "id": "GnmdNp7zJ8ys"
      },
      "source": [
        "#### Download Helper Functions"
      ]
    },
    {
      "cell_type": "code",
      "execution_count": 3,
      "metadata": {
        "id": "sIdu2uXL8x_n"
      },
      "outputs": [],
      "source": [
        "data_source = DataFeed.IEX # DataFeed. is default/free; SIP & OTC are available through paid subscription\n",
        "data_source_str = str(data_source)[-3:]\n",
        "\n",
        "stock_client = StockHistoricalDataClient(API_KEY,  SECRET_KEY)\n",
        "\n",
        "# pre = 'bar_set'\n",
        "post = 'raw'\n",
        "default_data_pth = 'data' #currently, launch by default from the project main folder\n",
        "\n",
        "save_template = \"{data_pth}/{data_folder}/{pre}_{time_str}_{symbol_str}_{timeframe_str}_{post}_{data_source_str}.csv\"\n",
        "\n",
        "\n",
        "def get_bars(symbol_lst, timeframe, start, end, limit, adjustment = 'all'):\n",
        "    request = StockBarsRequest(\n",
        "        symbol_or_symbols=symbol_lst, timeframe=timeframe, start=start, end=end, limit=limit, adjustment=adjustment, feed = data_source\n",
        "    )\n",
        "\n",
        "    print('Start request')\n",
        "    bar_set = stock_client.get_stock_bars(request_params=request)\n",
        "    print('End request')\n",
        "\n",
        "    return bar_set\n",
        "\n",
        "############################################################################################################\n",
        "def format_save_pth(symbol, timeframe, start, end,\n",
        "                    pre      = '', post = post,\n",
        "                    data_pth = default_data_pth,\n",
        "                    type     = 'bars',\n",
        "                    data_folder   = 'raw_download'):\n",
        "\n",
        "    # symbol_str = symbol\n",
        "    start_str  = start.strftime('%Y%m%d')\n",
        "    end_str    = end.strftime('%Y%m%d')\n",
        "    time_str   = f'{start_str}_{end_str}'\n",
        "\n",
        "    csv_pth = save_template.format(data_pth = data_pth, data_folder = data_folder, data_type = '{data_type}', pre = pre, symbol_str = symbol, time_str = time_str, timeframe_str = timeframe.value, post = post, data_source_str = data_source_str)\n",
        "    return csv_pth\n",
        "\n",
        "'''\n",
        "Get data for a single symbol from start to end in a single attempt TODO: autometically determine what new data to download; instead of downloading everything, only download the new dataXXXXXXXXXXXXXXXXXXXX Trerrible idea?\n",
        "\n",
        "    Expected Input:\n",
        "        Request Parameters:\n",
        "            symbol (use [symbol] in request)\n",
        "            timeframe\n",
        "            start: datetime object\n",
        "            end  : datetime object\n",
        "            limit: None by default\n",
        "        Path Parameters:\n",
        "            pre               : prefix of the csv file name. Default \"\". This is before \"bar_set\" or \"trade_set\", should have a trailing \"_\" if not empty\n",
        "            post              : postfix of the csv file name. Default \"raw\". This is after the timeframe, should have a leading \"_\" if not empty\n",
        "            data_pth          : path to the data folder\n",
        "        download          : if true download new data, otherwise read from existing csv\n",
        "        adjustment        : 'all', 'raw', 'split_only', 'dividend_only', 'none' # FIXME: look up alpaca API for exact possible inputs\n",
        "        type              : 'bars' or 'trades' # TODO: add 'quotes'\n",
        "\n",
        "    Expected Result:\n",
        "        1) return:\n",
        "            a pandas dataframe with ALL SYMBOLS INCLUDED, has multi-level index (symbol, timestamp), and with the following features/columns:\n",
        "                symbol, timestamp,                    open, high, low,  close,  volume,   trade_count, vwap\n",
        "                ARBB,   2023-04-05 15: 14: 00+00: 00, 3.6,  3.75, 3.55, 3.6,    297401.0, 213.0,       3.615044\n",
        "                ARBB,   2023-04-05 15: 15: 00+00: 00, 3.6,  3.85, 3.55, 3.85,   63472.0,  336.0,       3.708484\n",
        "                ARBB,   2023-04-05 15: 16: 00+00: 00, 3.8,  3.9,  3.75, 3.7925, 44114.0,  231.0,       3.835715\n",
        "        2) FEATURE REMOVED: a saved .csv file of the returned pandas dataframe, according to the save_template\n",
        "            This feature is now removed; all file-saving is now done in the get-load of data section.\n",
        "\n",
        "    Useage:\n",
        "        df = get_and_process_data(symbol_lst, timeframe, start, end, limit = None, download=False, pre = '', post = post, data_pth = default_data_pth, type = 'bars', adjustment ='all')\n",
        "\n",
        "\n",
        "    Steps/Process:\n",
        "        1. Format csv_pth\n",
        "        2.a. If download is True, get data from Alpaca API, and save to csv_pth\n",
        "        2.b. If download is False, read from csv_pth\n",
        "'''\n",
        "def get_and_process_data(symbol, timeframe, start, end, limit = None, adjustment ='all',\n",
        "                         pre      = 'bar_set', post = post,\n",
        "                         data_pth = default_data_pth,\n",
        "                         type     = 'bars',\n",
        "                         get_data = get_bars):\n",
        "\n",
        "    print(\"Getting Data for symbol:\", symbol)\n",
        "    csv_pth = format_save_pth(symbol, timeframe, start, end,\n",
        "                            pre      = pre,      post = post,\n",
        "                            data_pth = data_pth,\n",
        "                            type     = type)\n",
        "\n",
        "    print(\"csv_pth: \", csv_pth)\n",
        "\n",
        "    if os.path.exists(csv_pth) == False:\n",
        "        print(f'Downloading {type} for {symbol}:')\n",
        "        dataset = get_data([symbol], timeframe, start, end, limit, adjustment = adjustment)\n",
        "\n",
        "        # DEBUG\n",
        "\n",
        "        df = dataset.df\n",
        "        if type == 'trades':\n",
        "            print(df.columns.tolist())\n",
        "            df.drop(['exchange', 'id', 'conditions', 'tape'], axis = 1, inplace=True)\n",
        "            print(df.columns.tolist())\n",
        "\n",
        "        start_time = time.time()\n",
        "        print(f'start saving to csv at: {csv_pth}')\n",
        "        df.to_csv(csv_pth, index=True, index_label=['symbol', 'timestamp'])                       # note that the index_label is necessary; if not specified, the index name will not be saved\n",
        "        print(f'csv saving completed in {time.time()-start_time:.2f} seconds\\n')\n",
        "    else:\n",
        "        start_time = time.time()\n",
        "        print(f'reading from csv at: {csv_pth}')\n",
        "        df = pd.read_csv(csv_pth, index_col = ['symbol', 'timestamp'])                            # note how index_label is used to save, and index_col is used to read... bizarre ain't it?\n",
        "        print(f'csv reading completed in {time.time()-start_time:.2f} seconds\\n')\n",
        "\n",
        "    return df\n",
        "\n",
        "\n",
        "'''\n",
        "helper function for splitting up the entire time period into smaller chunks (so that download doesn't fail)\n",
        "and protect agaisnt download that does fail half way--don't need to completely restart, as some data is already received and saved\n",
        "\n",
        "TODO: maybe try multi-threaded request?\n",
        "'''\n",
        "def get_next_end(start, raw_end, type = 'bars'):\n",
        "    if type == 'bars':\n",
        "        end = start.replace(day=1) + relativedelta(years=+1)\n",
        "    elif type == 'trades':\n",
        "        if (start.day < 16):\n",
        "            end = start.replace(day=16)\n",
        "        else:\n",
        "            end = start.replace(day=1) + relativedelta(months=+1)\n",
        "\n",
        "    if end > raw_end:\n",
        "        end = raw_end\n",
        "    return end\n",
        "\n",
        "'''\n",
        "Get data for a single symbol from start to end in a single attempt TODO: autometically determine what new data to download; instead of downloading everything, only download the new dataXXXXXXXXXXXXXXXXXXXX Trerrible idea?\n",
        "\n",
        "    Expected Input:\n",
        "        dfs: a list of different time_sessions; each time_session is a list of dataframes for each symbol\n",
        "\n",
        "    Expected Result:\n",
        "        1) return:\n",
        "            a pandas dataframe with ALL SYMBOLS INCLUDED, has multi-level index (symbol, timestamp), sorted by timestamp, and with the following features/columns:\n",
        "                symbol, timestamp,                    open, high, low,  close,  volume,   trade_count, vwap\n",
        "                ARBB,   2023-04-05 15: 14: 00+00: 00, 3.6,  3.75, 3.55, 3.6,    297401.0, 213.0,       3.615044\n",
        "                ARBB,   2023-04-05 15: 15: 00+00: 00, 3.6,  3.85, 3.55, 3.85,   63472.0,  336.0,       3.708484\n",
        "                ARBB,   2023-04-05 15: 16: 00+00: 00, 3.8,  3.9,  3.75, 3.7925, 44114.0,  231.0,       3.835715\n",
        "        2) FEATURE REMOVED: a saved .csv file of the returned pandas dataframe, according to the save_template\n",
        "            This feature is now removed; all file-saving is now done in the get-load of data section.\n",
        "\n",
        "    Useage:\n",
        "        df = get_and_process_data(symbol_lst, timeframe, start, end, limit = None, download=False, pre = '', post = post, data_pth = default_data_pth, type = 'bars', adjustment ='all')\n",
        "\n",
        "\n",
        "    Steps/Process:\n",
        "        1. Format csv_pth\n",
        "        2.a. If download is True, get data from Alpaca API, and save to csv_pth\n",
        "        2.b. If download is False, read from csv_pth\n",
        "'''\n",
        "\n",
        "\n",
        "\n",
        "'''\n",
        "# for long timeframe and large symbol num, it might be necessary to split up the request, thus this function is needed TODO: autometically split up the request, and use this as default\n",
        "\n",
        "    Expected Input:\n",
        "        Request Parameters: Same as get_and_process_data\n",
        "\n",
        "    Expected Result:\n",
        "'''\n",
        "\n",
        "\n",
        "def get_load_of_data(symbol_lst, timeframe, start, end, limit = None, adjustment = 'all',\n",
        "                     pre      = '', post = post,\n",
        "                     data_pth = default_data_pth,\n",
        "                     type     = 'bars',\n",
        "                     combine  = False):\n",
        "    get_data = get_bars\n",
        "    if type == 'bars':\n",
        "        get_data = get_bars\n",
        "        pre = pre + 'bar_set'\n",
        "    elif type == 'trades':\n",
        "        get_data = get_trades\n",
        "        pre = pre + 'trade_set'\n",
        "\n",
        "\n",
        "    raw_start = start\n",
        "    raw_end = end\n",
        "\n",
        "    limit = None\n",
        "    time_strs = []\n",
        "\n",
        "    start_time = time.time()\n",
        "    print('Start getting multiple bars file')\n",
        "\n",
        "    start = raw_start\n",
        "    if type == 'bars':\n",
        "        start = start.replace(day=1, month = 1) # start from the first day of the month\n",
        "    dfs = []\n",
        "    if start >= raw_end:\n",
        "        raise Warning(f'start time {start} is later than end time {raw_end}')\n",
        "    for symbol in symbol_lst:\n",
        "        current_start = start  # Assuming initial_start is defined as the starting point\n",
        "        symbol_dfs = []\n",
        "\n",
        "        while current_start < raw_end:\n",
        "            end = get_next_end(current_start, raw_end, type=type)\n",
        "\n",
        "            start_str = current_start.strftime('%Y%m%d')\n",
        "            end_str = end.strftime('%Y%m%d')\n",
        "            time_str = f'{start_str}_{end_str}'\n",
        "            print('getting data for time session: ', time_str)\n",
        "\n",
        "            if not time_str in time_strs:\n",
        "                time_strs.append(time_str)\n",
        "\n",
        "            df = get_and_process_data(symbol, timeframe, current_start, end, limit, adjustment,\n",
        "                                    pre=pre, post=post, data_pth=data_pth, type=type, get_data=get_data)\n",
        "\n",
        "            if combine:\n",
        "                symbol_dfs.append(df)\n",
        "\n",
        "            current_start = end\n",
        "\n",
        "        if combine:\n",
        "            symbol_df = pd.concat(symbol_dfs)\n",
        "            dfs.append(symbol_df)\n",
        "            csv_pth = format_save_pth(symbol, timeframe, start, end,\n",
        "                                        pre      = pre,      post = post,\n",
        "                                        data_pth = data_pth,\n",
        "                                        type     = type,\n",
        "                                        data_folder = 'raw_combine')\n",
        "\n",
        "            if os.path.exists(csv_pth) == False:\n",
        "                print('saving combined df to: ', csv_pth)\n",
        "                symbol_df.to_csv(csv_pth, index=True, index_label=['symbol', 'timestamp'])\n",
        "\n",
        "\n",
        "\n",
        "    print(f'All files downloaded and processed in {time.time()-start_time:.2f} seconds')\n",
        "\n",
        "    print('time_strs: ', time_strs)\n",
        "\n",
        "    return dfs\n",
        "\n"
      ]
    },
    {
      "cell_type": "markdown",
      "metadata": {
        "id": "GbQ5ACVFI7eq"
      },
      "source": [
        "##### Testing Raw Data Download"
      ]
    },
    {
      "cell_type": "code",
      "execution_count": 4,
      "metadata": {
        "colab": {
          "base_uri": "https://localhost:8080/"
        },
        "id": "A1lpwQ0RCehd",
        "outputId": "b38b91a4-c3ef-4438-f1ea-b5e177a1f9df"
      },
      "outputs": [
        {
          "name": "stdout",
          "output_type": "stream",
          "text": [
            "start getting data\n",
            "\n",
            "Start getting multiple bars file\n",
            "getting data for time session:  20200101_20210101\n",
            "Getting Data for symbol: MSFT\n",
            "csv_pth:  data/raw_download/bar_set_20200101_20210101_MSFT_1Min_raw_IEX.csv\n",
            "reading from csv at: data/raw_download/bar_set_20200101_20210101_MSFT_1Min_raw_IEX.csv\n",
            "csv reading completed in 0.27 seconds\n",
            "\n",
            "All files downloaded and processed in 0.27 seconds\n",
            "time_strs:  ['20200101_20210101']\n",
            "                                    open    high     low   close  volume  \\\n",
            "symbol timestamp                                                           \n",
            "MSFT   2020-01-01 00:03:00+00:00  152.44  152.44  152.44  152.44   280.0   \n",
            "       2020-01-01 00:08:00+00:00  152.44  152.44  152.44  152.44   226.0   \n",
            "       2020-01-01 00:12:00+00:00  152.40  152.40  152.40  152.40  1057.0   \n",
            "       2020-01-01 00:25:00+00:00  152.44  152.44  152.44  152.44   673.0   \n",
            "       2020-01-01 00:27:00+00:00  152.40  152.40  152.38  152.38  1276.0   \n",
            "\n",
            "                                  trade_count    vwap  \n",
            "symbol timestamp                                       \n",
            "MSFT   2020-01-01 00:03:00+00:00          2.0  152.44  \n",
            "       2020-01-01 00:08:00+00:00          1.0  152.44  \n",
            "       2020-01-01 00:12:00+00:00          4.0  152.40  \n",
            "       2020-01-01 00:25:00+00:00          2.0  152.44  \n",
            "       2020-01-01 00:27:00+00:00          5.0  152.39  \n"
          ]
        }
      ],
      "source": [
        "# # symbol_lst = ['PDD', 'DQ', 'ARBB', 'JYD', 'MGIH', 'NVDA', 'AAPL']\n",
        "symbol_lst = [\"MSFT\"]\n",
        "timeframe = TimeFrame.Minute\n",
        "start = datetime(2020,1,1) # 2020-01-01 is wednesday\n",
        "end = datetime(2021,1,1)\n",
        "\n",
        "print('start getting data\\n')\n",
        "dfs = get_load_of_data(symbol_lst, timeframe, start, end, limit = None, adjustment = 'all',\n",
        "                        pre = '', post = post,\n",
        "                        type = 'bars',\n",
        "                        combine = True)\n",
        "\n",
        "for df in dfs:\n",
        "    print(df.head())"
      ]
    },
    {
      "cell_type": "markdown",
      "metadata": {
        "id": "iRTV7oHAHR7P"
      },
      "source": [
        "### Custom Indicator Helper Functions"
      ]
    },
    {
      "cell_type": "markdown",
      "metadata": {
        "id": "njHKUb-J_0Oc"
      },
      "source": [
        "#### Normalization of close value\n",
        "\n",
        "Note that normalization takes place here before indication happens. This is done so that the indicated data which are directly related to price don't need additional normalization."
      ]
    },
    {
      "cell_type": "code",
      "execution_count": 5,
      "metadata": {},
      "outputs": [],
      "source": [
        "# TODO: Trade count, volume should be normalized with respect to total volume/market volume."
      ]
    },
    {
      "cell_type": "code",
      "execution_count": 6,
      "metadata": {
        "colab": {
          "base_uri": "https://localhost:8080/"
        },
        "id": "etNTuUc6MWsI",
        "outputId": "ba444ffc-c09e-4a06-cb32-f7fd42392a5b"
      },
      "outputs": [
        {
          "name": "stdout",
          "output_type": "stream",
          "text": [
            "Empty DataFrame\n",
            "Columns: [close_mean, close_std, trade_count_mean, trade_count_std, volume_mean, volume_std]\n",
            "Index: []\n"
          ]
        }
      ],
      "source": [
        "# read previously generated normalization parameters for symbols if it exists\n",
        "norm_params_pth = \"norm_params.csv\"\n",
        "norm_params = pd.DataFrame(columns=['symbol', 'close_mean', 'close_std', 'trade_count_mean', 'trade_count_std', 'volume_mean', 'volume_std']).set_index('symbol')\n",
        "if os.path.exists(norm_params_pth):\n",
        "    norm_params = pd.read_csv(norm_params_pth, index_col='symbol')\n",
        "print(norm_params.head())\n",
        "\n",
        "# This following normalization function should be applied to training set of each symbol; the returned mean & varaince should be stored, and used to normalize validation set.\n",
        "\n",
        "\n",
        "# Normalize data, and save the normalization parameters for each symbol in norm_params dataframe\n",
        "def normalize_raw_price(df_original):\n",
        "    df = df_original.copy()\n",
        "    # if normalization parameters for this symbol already exist, use them\n",
        "    symbol = df.index[0][0]\n",
        "    if symbol in norm_params.index:\n",
        "        print(\"found existing norm_param\")\n",
        "        row = norm_params.loc[symbol]\n",
        "        close_mean       = row['close_mean']\n",
        "        close_std        = row['close_std']\n",
        "        trade_count_mean = row['trade_count_mean']\n",
        "        trade_count_std  = row['trade_count_std']\n",
        "        volume_mean      = row['volume_mean']\n",
        "        volume_std       = row['volume_std']\n",
        "\n",
        "    else:\n",
        "        # Calculate mean and std for 'close'\n",
        "        close_mean = df['close'].mean()\n",
        "        close_std  = df['close'].std()\n",
        "\n",
        "        # Normalize 'trade_count' independently\n",
        "        trade_count_mean  = df['trade_count'].mean()\n",
        "        trade_count_std   = df['trade_count'].std()\n",
        "\n",
        "        # Normalize 'volume' independently\n",
        "        volume_mean = df['volume'].mean()\n",
        "        volume_std  = df['volume'].std()\n",
        "\n",
        "        # Save normalization parameters for each symbol in norm_params dataframe\n",
        "        norm_params.loc[symbol] = [close_mean, close_std, trade_count_mean, trade_count_std, volume_mean, volume_std]\n",
        "        # Save symbols_norm_params dataframe to csv file\n",
        "        norm_params.to_csv(norm_params_pth)\n",
        "\n",
        "    for column in df.columns:\n",
        "        if column not in ['close', 'trade_count', 'volume']:\n",
        "            df[column] = (df[column] - close_mean) / close_std\n",
        "\n",
        "    df['trade_count'] = (df['trade_count'] - trade_count_mean) / trade_count_std\n",
        "    df['volume'] = (df['volume'] - volume_mean) / volume_std\n",
        "\n",
        "    return (symbol, df)"
      ]
    },
    {
      "cell_type": "code",
      "execution_count": 7,
      "metadata": {
        "colab": {
          "base_uri": "https://localhost:8080/"
        },
        "id": "FtumgcMeW_mk",
        "outputId": "c774846e-d399-402d-f559-7b382d053b23"
      },
      "outputs": [
        {
          "name": "stdout",
          "output_type": "stream",
          "text": [
            "                                      open      high       low   close  \\\n",
            "symbol timestamp                                                         \n",
            "MSFT   2020-01-01 00:03:00+00:00 -1.452613 -1.452613 -1.452613  152.44   \n",
            "       2020-01-01 00:08:00+00:00 -1.452613 -1.452613 -1.452613  152.44   \n",
            "       2020-01-01 00:12:00+00:00 -1.454337 -1.454337 -1.454337  152.40   \n",
            "       2020-01-01 00:25:00+00:00 -1.452613 -1.452613 -1.452613  152.44   \n",
            "       2020-01-01 00:27:00+00:00 -1.454337 -1.454337 -1.455199  152.38   \n",
            "\n",
            "                                    volume  trade_count      vwap  \n",
            "symbol timestamp                                                   \n",
            "MSFT   2020-01-01 00:03:00+00:00 -0.161442    -0.688351 -1.452613  \n",
            "       2020-01-01 00:08:00+00:00 -0.161584    -0.689711 -1.452613  \n",
            "       2020-01-01 00:12:00+00:00 -0.159410    -0.685631 -1.454337  \n",
            "       2020-01-01 00:25:00+00:00 -0.160414    -0.688351 -1.452613  \n",
            "       2020-01-01 00:27:00+00:00 -0.158837    -0.684272 -1.454768  \n",
            "        close_mean  close_std  trade_count_mean  trade_count_std  \\\n",
            "symbol                                                             \n",
            "MSFT    186.141631  23.200699        508.207264       735.391196   \n",
            "\n",
            "         volume_mean     volume_std  \n",
            "symbol                               \n",
            "MSFT    61996.099201  382279.297696  \n"
          ]
        }
      ],
      "source": [
        "symbol, df = normalize_raw_price(dfs[0])\n",
        "print(df.head())\n",
        "print(norm_params)"
      ]
    },
    {
      "cell_type": "markdown",
      "metadata": {
        "id": "q2Z_jIOBsuZQ"
      },
      "source": [
        "#### Generate Indicated Data"
      ]
    },
    {
      "cell_type": "markdown",
      "metadata": {
        "id": "CP4aoDokMRTZ"
      },
      "source": [
        "#### Indicator helper functions"
      ]
    },
    {
      "cell_type": "code",
      "execution_count": 8,
      "metadata": {
        "id": "BqtMJm5iKOb8"
      },
      "outputs": [],
      "source": [
        "class IndicatorParam(Enum):\n",
        "    ADX = {'length':14}\n",
        "    RSI = (1,1)\n",
        "    BBANDS = 20\n",
        "\n",
        "def add_time_embedding(df):\n",
        "    # Create a column from the timestamp index (second index), make sure the index is timezone aware (in UTC);\n",
        "    df.loc[:, '_timestamps_col'] = pd.to_datetime(df.index.get_level_values(1), utc=True)\n",
        "\n",
        "    # Convert the index to Eastern timezone\n",
        "    df.loc[:, '_edt_time'] = df['_timestamps_col'].dt.tz_convert('US/Eastern')\n",
        "\n",
        "    # Extract the time of day (in hours) as a new column\n",
        "    df.loc[:, '_edt_hour']      = df['_edt_time'].dt.hour + df['_edt_time'].dt.minute / 60\n",
        "    df.loc[:, 'edt_dayofweek'] = df['_edt_time'].dt.dayofweek\n",
        "\n",
        "    # Create a new column with the time of day scaled from 0.0 (9:30 am) to 1.0 (1:00 pm)\n",
        "    start_hour, end_hour       = 9.5, 16.0\n",
        "    df.loc[:, 'edt_scaled']    = (df['_edt_hour'] - start_hour) / (end_hour - start_hour)\n",
        "    df.loc[:, 'is_core_time']  = ((df['edt_scaled'] >= 0) & (df['edt_scaled'] <= 1)).astype(int)\n",
        "\n",
        "    df.drop(columns=['_timestamps_col', '_edt_time', '_edt_hour'], inplace=True)\n",
        "\n",
        "def append_indicators(df, mock_trade = True): # note that the mocktrade version removes the final row -- becuase it becomes NaN in rise and fall\n",
        "    df.ta.ema(append=True, length = 14)\n",
        "    df.ta.dema(append=True)\n",
        "    df.ta.tema(append=True)\n",
        "    df.ta.bbands(append=True)\n",
        "    df.ta.rsi(append=True)\n",
        "    df.ta.cci(append=True)\n",
        "    # df.ta.dmi(append=True) # not working\n",
        "    # Add ADX\n",
        "    df.ta.adx(append=True)\n",
        "\n",
        "    add_time_embedding(df) # very inefficient compared to pandas_ta indicators;\n",
        "    # # the previous indicators in total used 0.025 seconds on a week's data, this one took 0.065 seconds\n",
        "\n",
        "    mock_trade_df = None\n",
        "    df.dropna(inplace = True)\n",
        "    if mock_trade:\n",
        "        df['next_high'] = df['high'].shift(-1)\n",
        "        df['next_fall'] = df['low'].shift(-1)\n",
        "        df.dropna(inplace = True)\n",
        "        df_reset      = df.reset_index()\n",
        "        new_df        = df_reset[['symbol','timestamp', 'next_high', 'next_fall']]\n",
        "        mock_trade_df = pd.melt(new_df, id_vars=['symbol','timestamp'], value_vars=['next_high', 'next_fall'], var_name='price_type', value_name='price')\n",
        "        mock_trade_df.set_index('timestamp', inplace=True)\n",
        "        mock_trade_df.sort_index(inplace=True)\n",
        "        df.drop(columns=['next_high', 'next_fall'], inplace=True)\n",
        "\n",
        "    columns_2_drop_lst =    ['open', 'high', 'low', 'volume', 'trade_count', \\\n",
        "                            f\"DMN_{IndicatorParam.ADX.value['length']}\", f\"DMP_{IndicatorParam.ADX.value['length']}\"]\n",
        "    # next_high and next_fall columns can be used to approximate minute level trade action.\n",
        "    # will delete them after creating new dataframe and saving it.\n",
        "\n",
        "    # for column in columns_2_drop_lst:\n",
        "    # if column in df.columns         :\n",
        "    # df.dropna(inplace = True)?\n",
        "    df.drop(columns=columns_2_drop_lst, inplace=True)\n",
        "    feature_list = list(df.columns)\n",
        "\n",
        "    # print(\"col_list: \", feature_list)\n",
        "    return feature_list, mock_trade_df\n",
        "\n",
        "\n",
        "\"\"\"\n",
        "    This function is used to check if the feature_lst already exists in feature_hist_df;\n",
        "    if so use the id of the existing record; if not, create a new record\n",
        "    this is to avoid saving the same feature set multiple times and mixing them up.\n",
        "\"\"\"\n",
        "def log_feature_record(feature_lst, feature_hist_df):\n",
        "    start_time2 = time.time()\n",
        "    feature_set  = set(feature_lst)\n",
        "    feature_num  = len(feature_lst)\n",
        "    exist_record = False\n",
        "    id           = 0\n",
        "\n",
        "    for index, record in feature_hist_df.iterrows():\n",
        "        print(\"type of feature list is:\", type(record['feature_lst']))\n",
        "        record_feature_set = set(ast.literal_eval(record['feature_lst']))\n",
        "        record_feature_num = int(record['feature_num'])\n",
        "        record_id          = int(record['id'])\n",
        "\n",
        "        if record_feature_num == feature_num:\n",
        "            exist_record = False\n",
        "            id           = max(id, record_id)\n",
        "\n",
        "        if record_feature_set == feature_set:\n",
        "            exist_record = True\n",
        "            id           = record_id\n",
        "            print('found existing feature_hist')\n",
        "            break\n",
        "\n",
        "    # If no existing record found, insert a new row\n",
        "    if not exist_record:\n",
        "        current_timestamp = datetime.now()\n",
        "        new_row           = {'feature_num': feature_num, 'timestamp': current_timestamp, 'feature_lst': str(feature_lst), 'id': id}\n",
        "        feature_hist_df   = feature_hist_df._append(new_row, ignore_index=True)\n",
        "\n",
        "    feature_record = f'{feature_num}feature{id}' # later used to construct save_pth\n",
        "\n",
        "    return feature_record, feature_hist_df\n",
        "\n",
        "\n",
        "# TODO: Split up this function by cutting parts of it to be represented as helper functions\n",
        "def indicate(symbol_lst = ['NVDA','AAPL','MSFT','GOOG','TSLA'], training = True):\n",
        "    timeframe = TimeFrame.Minute\n",
        "\n",
        "    # training = False # HYPERPARAMETER\n",
        "    pre  = \"bar_set\"\n",
        "    post = \"raw\"\n",
        "\n",
        "    # train = '20200101_20230101'; test = '20230101_20230701'\n",
        "    # TODO: Comback to resolve this when\n",
        "    # when testing data is getting generated, for each timestamp where data exist, does information for other symbols need to be inferred? Or should they be predicted seperately?\n",
        "\n",
        "    if training:\n",
        "        start = datetime(2020, 1, 1)\n",
        "        end   = datetime(2023, 1, 1)\n",
        "    else:\n",
        "        start = datetime(2023, 1, 1)\n",
        "        end   = datetime(2023, 7, 1)\n",
        "\n",
        "    time_str   = start.strftime('%Y%m%d') + '_' + end.strftime('%Y%m%d')\n",
        "    # Download all required data using alpaca_history's get_loads_of_data\n",
        "    get_load_of_data(symbol_lst, timeframe, start, end, limit = None, adjustment = 'all',\n",
        "                    pre      = '', post = post,\n",
        "                    type     = 'bars',\n",
        "                    combine  = True)\n",
        "\n",
        "    # Load feature history record\n",
        "    features_hist_pth = 'features_hist.csv'\n",
        "    if os.path.exists(features_hist_pth):\n",
        "        feature_hist_df = pd.read_csv(features_hist_pth)\n",
        "    else:\n",
        "        feature_hist_df = pd.DataFrame(columns=['feature_num', 'timestamp','feature_lst', 'id'])\n",
        "\n",
        "\n",
        "    # Generate save path and input path\n",
        "\n",
        "    timeframe       = TimeFrame.Minute.value\n",
        "    data_source     = DataFeed.IEX # DataFeed. is default/free; SIP & OTC are available through paid subscription\n",
        "    data_source_str = str(data_source)[-3:]\n",
        "\n",
        "    input_pth_template = '{data_pth}/raw_combine/{pre}_{time_str}_{symbol}_{timeframe}_{post}_{data_source}.csv'.format(\\\n",
        "                            data_pth = default_data_pth, pre = pre, time_str = time_str, timeframe = timeframe, post = post, data_source = data_source_str, symbol = '{symbol}')\n",
        "    save_pth_template  = '{data_pth}/{purpose}/{pre}_{time_str}_{symbol}_{timeframe}_{feature_record}_{data_source}.csv'.format(\\\n",
        "                            data_pth = default_data_pth, pre = pre, time_str = time_str, timeframe = timeframe, data_source = data_source_str, purpose = '{purpose}', symbol = '{symbol}', feature_record = '{feature_record}')\n",
        "\n",
        "    if training == True:\n",
        "        save_pth_template = save_pth_template.format(purpose = 'train', symbol = '{symbol}', feature_record = '{feature_record}')\n",
        "        mock_trade        = False\n",
        "    else:\n",
        "        save_pth_template = save_pth_template.format(purpose = 'test', symbol = '{symbol}', feature_record = '{feature_record}')\n",
        "        mock_trade        = False # True\n",
        "\n",
        "    dfs = []\n",
        "    for symbol in symbol_lst:\n",
        "        input_path                  = input_pth_template.format(pre = 'bar_set', symbol = symbol, time_str = time_str, timeframe = timeframe, post = 'raw')\n",
        "        indicated_save_pth_template = save_pth_template.format(pre = 'bar_set', symbol = symbol, time_str = time_str, timeframe = timeframe, feature_record = '{feature_record}')\n",
        "        df                          = pd.read_csv(input_path, index_col = ['symbol', 'timestamp'])\n",
        "        print(df.shape)\n",
        "\n",
        "\n",
        "        total_calculation_time = 0\n",
        "        total_csv_saving_time  = 0\n",
        "        # Create a new dataframe for each group\n",
        "        start_time = time.time()\n",
        "        print('start calculating indicators...')\n",
        "\n",
        "        feature_lst = []\n",
        "\n",
        "        # groups = df.groupby('symbol')\n",
        "        # for symbol, df in groups:\n",
        "        # symbol  : the symbol of the group (in this case, the unique values in 'index_1')\n",
        "        start_time2 = time.time()\n",
        "\n",
        "        feature_lst, mock_trade_df = append_indicators(df, mock_trade = mock_trade)\n",
        "\n",
        "        calculation_time        = time.time() - start_time2\n",
        "        total_calculation_time += calculation_time\n",
        "        print(f'finished calculating indicators for {symbol} in {calculation_time} seconds')\n",
        "\n",
        "        # Check if the feature_lst already exists in feature_hist_df;\n",
        "        #   if so use the id of the existing record; if not, create a new record\n",
        "        # this is to avoid saving the same feature set multiple times and mixing them up.\n",
        "        feature_record, feature_hist_df = log_feature_record(feature_lst, feature_hist_df)\n",
        "\n",
        "        save_pth        = indicated_save_pth_template.format(feature_record = feature_record)\n",
        "        mock_trade_path = f'{default_data_pth}/test/mock_trade/{symbol}{time_str}_{symbol}.csv'\n",
        "        if mock_trade:\n",
        "            print('start saving to: ', save_pth, '\\n', mock_trade_path)\n",
        "            assert 2*df.shape[0] == mock_trade_df.shape[0]\n",
        "            mock_trade_df.to_csv(mock_trade_path)\n",
        "        else:\n",
        "            print('start saving to: ', save_pth)\n",
        "        df.to_csv(save_pth, index=True, index_label=['symbol', 'timestamp'])\n",
        "        csv_saving_time        = time.time() - start_time2\n",
        "        total_csv_saving_time += csv_saving_time\n",
        "        print(f'finished calculating indicators for {symbol} in {csv_saving_time:4.2f} seconds')\n",
        "        dfs.append(df)\n",
        "        # df.to_csv(f'data/csv/test.csv', index=True, index_label=['symbol', 'timestamp'])\n",
        "\n",
        "    print(f'finished calculating indicators for all symbol_lst in {time.time() - start_time} seconds')\n",
        "    print(feature_lst)\n",
        "\n",
        "    feature_hist_df.to_csv(features_hist_pth, index=False)\n",
        "    return dfs"
      ]
    },
    {
      "cell_type": "markdown",
      "metadata": {
        "id": "PjyTc-5vzc7n"
      },
      "source": [
        "#### Training Data"
      ]
    },
    {
      "cell_type": "code",
      "execution_count": 9,
      "metadata": {
        "id": "ocJety0leCoN"
      },
      "outputs": [],
      "source": [
        "# Here the prediction target is the deviation from the final available stock price.\n",
        "def get_windowed_XY_data(df, pred_dists):\n",
        "    N = df.shape[0]\n",
        "    new_N = N-hist_window-max(pred_dists)\n",
        "\n",
        "    X_lst = []\n",
        "    for i in range(hist_window):\n",
        "        timestep = df.iloc[i:N-hist_window+i-max(pred_dists), :].values\n",
        "        X_lst.append(timestep)\n",
        "        # print(timestep.shape)\n",
        "    X = np.stack(X_lst, axis=1)\n",
        "    # (N, hist_window, feature_num)\n",
        "\n",
        "    Y_lst = []\n",
        "    start_prices = df.iloc[hist_window-1:hist_window-1+new_N,0].values\n",
        "\n",
        "    for i in pred_dists:\n",
        "        timestep = df.iloc[hist_window-1+i:hist_window-1+i+new_N,0].values # 0 for 'close' price\n",
        "        target = timestep-start_prices\n",
        "        Y_lst.append(target)\n",
        "        # print(timestep.shape)\n",
        "    Y = np.stack(Y_lst, axis=1)\n",
        "    # (N, pred_)\n",
        "\n",
        "    return X,Y\n"
      ]
    },
    {
      "cell_type": "code",
      "execution_count": 10,
      "metadata": {
        "colab": {
          "base_uri": "https://localhost:8080/"
        },
        "id": "XDWJjvIDLNbP",
        "outputId": "ccdc1dd4-5a69-4641-ab73-c7be424b3e04"
      },
      "outputs": [
        {
          "name": "stdout",
          "output_type": "stream",
          "text": [
            "Start getting multiple bars file\n",
            "getting data for time session:  20200101_20210101\n",
            "Getting Data for symbol: MSFT\n",
            "csv_pth:  data/raw_download/bar_set_20200101_20210101_MSFT_1Min_raw_IEX.csv\n",
            "reading from csv at: data/raw_download/bar_set_20200101_20210101_MSFT_1Min_raw_IEX.csv\n"
          ]
        },
        {
          "name": "stdout",
          "output_type": "stream",
          "text": [
            "csv reading completed in 0.25 seconds\n",
            "\n",
            "getting data for time session:  20210101_20220101\n",
            "Getting Data for symbol: MSFT\n",
            "csv_pth:  data/raw_download/bar_set_20210101_20220101_MSFT_1Min_raw_IEX.csv\n",
            "reading from csv at: data/raw_download/bar_set_20210101_20220101_MSFT_1Min_raw_IEX.csv\n",
            "csv reading completed in 0.24 seconds\n",
            "\n",
            "getting data for time session:  20220101_20230101\n",
            "Getting Data for symbol: MSFT\n",
            "csv_pth:  data/raw_download/bar_set_20220101_20230101_MSFT_1Min_raw_IEX.csv\n",
            "reading from csv at: data/raw_download/bar_set_20220101_20230101_MSFT_1Min_raw_IEX.csv\n",
            "csv reading completed in 0.22 seconds\n",
            "\n",
            "All files downloaded and processed in 0.85 seconds\n",
            "time_strs:  ['20200101_20210101', '20210101_20220101', '20220101_20230101']\n",
            "(476496, 7)\n",
            "start calculating indicators...\n",
            "finished calculating indicators for MSFT in 3.800004482269287 seconds\n",
            "type of feature list is: <class 'str'>\n",
            "found existing feature_hist\n",
            "start saving to:  data/train/bar_set_20200101_20230101_MSFT_1Min_16feature0_IEX.csv\n",
            "finished calculating indicators for MSFT in 10.63 seconds\n",
            "finished calculating indicators for all symbol_lst in 10.627968549728394 seconds\n",
            "['close', 'vwap', 'EMA_14', 'DEMA_10', 'TEMA_10', 'BBL_5_2.0', 'BBM_5_2.0', 'BBU_5_2.0', 'BBB_5_2.0', 'BBP_5_2.0', 'RSI_14', 'CCI_14_0.015', 'ADX_14', 'edt_dayofweek', 'edt_scaled', 'is_core_time']\n"
          ]
        }
      ],
      "source": [
        "dfs = indicate(symbol_lst = [\"MSFT\"], training = True)\n",
        "df = dfs[0]"
      ]
    },
    {
      "cell_type": "code",
      "execution_count": 11,
      "metadata": {
        "id": "ZrBL2ON8Twec"
      },
      "outputs": [],
      "source": [
        "# Define time intervals for prediction\n",
        "pred_dists = np.array([1, 3, 10, 30])  # minutes\n",
        "X_train, Y_train = get_windowed_XY_data(df, pred_dists)"
      ]
    },
    {
      "cell_type": "markdown",
      "metadata": {
        "id": "ug3o8tzgzj1P"
      },
      "source": [
        "####Validation Data"
      ]
    },
    {
      "cell_type": "code",
      "execution_count": 12,
      "metadata": {
        "colab": {
          "base_uri": "https://localhost:8080/"
        },
        "id": "jIXhFBko7QEo",
        "outputId": "9c7e7b3d-b02a-4746-8571-5d359acee041"
      },
      "outputs": [
        {
          "name": "stdout",
          "output_type": "stream",
          "text": [
            "Start getting multiple bars file\n",
            "getting data for time session:  20230101_20230701\n",
            "Getting Data for symbol: MSFT\n",
            "csv_pth:  data/raw_download/bar_set_20230101_20230701_MSFT_1Min_raw_IEX.csv\n",
            "reading from csv at: data/raw_download/bar_set_20230101_20230701_MSFT_1Min_raw_IEX.csv\n",
            "csv reading completed in 0.11 seconds\n",
            "\n",
            "All files downloaded and processed in 0.12 seconds\n",
            "time_strs:  ['20230101_20230701']\n",
            "(80672, 7)\n",
            "start calculating indicators...\n",
            "finished calculating indicators for MSFT in 0.6308891773223877 seconds\n",
            "type of feature list is: <class 'str'>\n",
            "found existing feature_hist\n",
            "start saving to:  data/test/bar_set_20230101_20230701_MSFT_1Min_16feature0_IEX.csv\n",
            "finished calculating indicators for MSFT in 1.68 seconds\n",
            "finished calculating indicators for all symbol_lst in 1.679548740386963 seconds\n",
            "['close', 'vwap', 'EMA_14', 'DEMA_10', 'TEMA_10', 'BBL_5_2.0', 'BBM_5_2.0', 'BBU_5_2.0', 'BBB_5_2.0', 'BBP_5_2.0', 'RSI_14', 'CCI_14_0.015', 'ADX_14', 'edt_dayofweek', 'edt_scaled', 'is_core_time']\n"
          ]
        }
      ],
      "source": [
        "dfs = indicate(symbol_lst = [\"MSFT\"], training = False)\n",
        "df = dfs[0]"
      ]
    },
    {
      "cell_type": "code",
      "execution_count": 13,
      "metadata": {
        "id": "m-KoQSu97R0C"
      },
      "outputs": [],
      "source": [
        "X_test, Y_test = get_windowed_XY_data(df, pred_dists)"
      ]
    },
    {
      "cell_type": "markdown",
      "metadata": {
        "id": "K5U8Xhyo2d21"
      },
      "source": [
        "#### Dataframe to Tensor"
      ]
    },
    {
      "cell_type": "code",
      "execution_count": 14,
      "metadata": {
        "id": "s0LXBY1N83us"
      },
      "outputs": [],
      "source": [
        "feature_num = df.shape[1]\n",
        "hist_window = 60"
      ]
    },
    {
      "cell_type": "code",
      "execution_count": 15,
      "metadata": {
        "id": "5MILYdr08ah9"
      },
      "outputs": [],
      "source": [
        "import torch\n",
        "from torch.utils.data import TensorDataset, DataLoader\n",
        "\n",
        "# Assuming X_train, Y_train, X_test, Y_test are already numpy arrays\n",
        "X_train_tensor = torch.tensor(X_train, dtype=torch.float32)\n",
        "Y_train_tensor = torch.tensor(Y_train, dtype=torch.float32)\n",
        "X_test_tensor = torch.tensor(X_test, dtype=torch.float32)\n",
        "Y_test_tensor = torch.tensor(Y_test, dtype=torch.float32)\n",
        "\n",
        "# Creating data loaders\n",
        "train_data = TensorDataset(X_train_tensor, Y_train_tensor)\n",
        "train_loader = DataLoader(train_data, batch_size=1048, shuffle=True)\n",
        "\n",
        "test_data = TensorDataset(X_test_tensor, Y_test_tensor)\n",
        "test_loader = DataLoader(test_data, batch_size=1048, shuffle=False)"
      ]
    },
    {
      "cell_type": "markdown",
      "metadata": {
        "id": "W2hI6dOM6om9"
      },
      "source": [
        "### Training Different Models for Stock Price Prediction and Comparing Differernce in Their Capabilities"
      ]
    },
    {
      "cell_type": "markdown",
      "metadata": {
        "id": "Nd5e7yMo1yza"
      },
      "source": [
        "#### Model Helper Function Interface"
      ]
    },
    {
      "cell_type": "code",
      "execution_count": 16,
      "metadata": {
        "id": "huY-uKN2HsUq"
      },
      "outputs": [],
      "source": [
        "def tfpn_calculator(y_batch, y_pred):\n",
        "    direction_batch = np.where(y_batch >= 0, 1, 0)\n",
        "    direction_pred  = np.where(y_pred  >= 0, 1, 0)\n",
        "    # of shape (batch_size, pred_num)\n",
        "\n",
        "    direction_batch_flat = direction_batch.flatten()\n",
        "    direction_pred_flat  = direction_pred.flatten()\n",
        "\n",
        "    true_positive = np.sum(np.logical_and(direction_batch_flat==1, direction_pred_flat==1))\n",
        "    true_negative = np.sum(np.logical_and(direction_batch_flat==0, direction_pred_flat==0))\n",
        "    false_positive = np.sum(np.logical_and(direction_batch_flat==0, direction_pred_flat==1))\n",
        "    false_negative = np.sum(np.logical_and(direction_batch_flat==1, direction_pred_flat==0))\n",
        "\n",
        "    return true_positive, true_negative, false_positive, false_negative\n",
        "\n",
        "from prettytable import PrettyTable\n",
        "\n",
        "def confusion_matrix_printout(tp,tn,fp,fn):\n",
        "    recall                    = np.divide(tp, (tp + fn))  if (tp + fn) != 0 else np.nan # true positive rate\n",
        "    specificity               = np.divide(tn, (tn + fp))  if (tn + fp) != 0 else np.nan # true negative rate\n",
        "    precision                 = np.divide(tp, (tp + fp))  if (tp + fp) != 0 else np.nan # positive predictive value\n",
        "    negative_predictive_value = np.divide(tn, (tn + fn))  if (tn + fn) != 0 else np.nan # negative predictive value\n",
        "\n",
        "    # For accuracy and f1_score, since they involve more than a simple division, we will need to handle zero division explicitly\n",
        "    accuracy = (tp + tn) / (tp + tn + fp + fn)                 if (tp + tn + fp + fn)  != 0 else np.nan\n",
        "    f1_score = (2 * precision * recall) / (precision + recall) if (precision + recall) != 0 else np.nan\n",
        "\n",
        "\n",
        "    t = PrettyTable(['Actual\\\\Pred', 'Positive', 'Negative', ''])\n",
        "    t.add_row(['Positive', tp, fn, f\"Recall: {recall:.2f}\"])\n",
        "    t.add_row(['Negative', fp, tn, f\"Specificity: {specificity:.2f}\"])\n",
        "    t.add_row(['', f'Precision: {precision:.2f}', f'Negative predictive value: {negative_predictive_value:.2f}', f'Accuracy: {accuracy:.2f}'])\n",
        "\n",
        "    print(t)\n",
        "\n",
        "    ret_dict = {'tp': tp, 'tn': tn, 'fp': fp, 'fn': fn,\n",
        "                'recall'                   : recall,\n",
        "                'specificity'              : specificity,\n",
        "                'precision'                : precision,\n",
        "                'negative_predictive_value': negative_predictive_value,\n",
        "                'accuracy'                 : accuracy,\n",
        "                'f1_score'                 : f1_score}\n",
        "\n",
        "    return ret_dict"
      ]
    },
    {
      "cell_type": "code",
      "execution_count": 17,
      "metadata": {
        "id": "9XF0R4GN8n18"
      },
      "outputs": [],
      "source": [
        "def loss_n_accuracy_plt(train_losses, test_losses, train_accuracy_lst, test_accuracy_lst):\n",
        "    ignore_first_n = 2\n",
        "    fig, ax1 = plt.subplots(figsize=(10, 6))\n",
        "\n",
        "    # Plot training and evaluation loss using the left side Y axis\n",
        "    ax1.plot(train_losses[ignore_first_n:], 'g-', label='Training Loss')\n",
        "    ax1.plot(test_losses[ignore_first_n:], 'b-', label='Evaluation Loss')\n",
        "    ax1.set_xlabel('Epoch')\n",
        "    ax1.set_ylabel('Loss', color='b')\n",
        "    ax1.tick_params(axis='y', labelcolor='b')\n",
        "    ax1.set_title('Training and Evaluation Loss and Accuracy')\n",
        "    ax1.legend(loc='upper left')\n",
        "\n",
        "    # Create a second y-axis for the accuracy plots\n",
        "    ax2 = ax1.twinx()\n",
        "    ax2.plot(train_accuracy_lst[ignore_first_n:], 'y:o', label='Training Accuracy')\n",
        "    ax2.plot(test_accuracy_lst[ignore_first_n:], 'r:o', label='Evaluation Accuracy')\n",
        "    ax2.set_ylabel('Accuracy', color='r')\n",
        "    ax2.tick_params(axis='y', labelcolor='r')\n",
        "\n",
        "    # Create a separate legend for the second y-axis\n",
        "    ax2.legend(loc='upper right')\n",
        "\n",
        "    plt.show()"
      ]
    },
    {
      "cell_type": "markdown",
      "metadata": {
        "id": "HX3XUYje8hxo"
      },
      "source": [
        "#### Deep Neural Network"
      ]
    },
    {
      "cell_type": "code",
      "execution_count": 18,
      "metadata": {
        "id": "nkWjau0z02n5"
      },
      "outputs": [],
      "source": [
        "import torch.nn as nn\n",
        "import torch.nn.functional as F\n",
        "\n",
        "class FullyConnectedModel(nn.Module):\n",
        "    def __init__(self):\n",
        "        super(FullyConnectedModel, self).__init__()\n",
        "        self.flatten = nn.Flatten()\n",
        "        self.fc1 = nn.Linear(60*16, 512)\n",
        "        self.fc2 = nn.Linear(512, 128)\n",
        "        self.fc3 = nn.Linear(128, 32)\n",
        "        self.fc4 = nn.Linear(32, 4)\n",
        "\n",
        "    def forward(self, x):\n",
        "        x = self.flatten(x)\n",
        "        x = F.relu(self.fc1(x))\n",
        "        x = F.relu(self.fc2(x))\n",
        "        x = F.relu(self.fc3(x))\n",
        "        x = self.fc4(x)  # No activation function in the last layer for regression\n",
        "        return x"
      ]
    },
    {
      "cell_type": "code",
      "execution_count": 19,
      "metadata": {
        "id": "jAPj94df2Xbq"
      },
      "outputs": [],
      "source": [
        "import torch.optim as optim\n",
        "import time\n",
        "\n",
        "\n",
        "import matplotlib.pyplot as plt\n",
        "\n",
        "def train_model(model, optimizer = None, criterion= nn.MSELoss(), num_epochs = 5):\n",
        "    if not optimizer:\n",
        "        optimizer = optim.Adam(model.parameters(), lr=0.001)\n",
        "\n",
        "    # Lists to keep track of losses\n",
        "    train_losses = []\n",
        "    test_losses  = []\n",
        "    train_cm_dicts = [] # cm stands for \"Confusion Matrix\"\n",
        "    test_cm_dicts  = []\n",
        "\n",
        "    start_time = time.time()\n",
        "\n",
        "\n",
        "    try:\n",
        "        for epoch in range(num_epochs):\n",
        "            print(epoch)\n",
        "            model.train()  # Set the model to training mode\n",
        "            total_train_loss = 0\n",
        "            total_test_loss = 0\n",
        "\n",
        "\n",
        "            total_train_tp = 0\n",
        "            total_train_tn = 0\n",
        "            total_train_fp = 0\n",
        "            total_train_fn = 0\n",
        "\n",
        "            total_test_tp = 0\n",
        "            total_test_tn = 0\n",
        "            total_test_fp = 0\n",
        "            total_test_fn = 0\n",
        "\n",
        "            for inputs, targets in train_loader:\n",
        "\n",
        "                inputs = inputs.cuda()\n",
        "                targets = targets.cuda()\n",
        "                # Forward pass\n",
        "                outputs = model(inputs)\n",
        "                loss = criterion(outputs, targets)\n",
        "\n",
        "                # Backward and optimize\n",
        "                optimizer.zero_grad()\n",
        "                loss.backward()\n",
        "                optimizer.step()\n",
        "\n",
        "                total_train_loss += loss.item()\n",
        "\n",
        "                # Calculate Confusion Matrix Statistics\n",
        "                y_batch = targets.cpu().detach().numpy()\n",
        "                y_pred  = outputs.cpu().detach().numpy()\n",
        "                tp, tn, fp, fn = tfpn_calculator(y_batch, y_pred)\n",
        "\n",
        "                total_train_tp += tp\n",
        "                total_train_tn += tn\n",
        "                total_train_fp += fp\n",
        "                total_train_fn += fn\n",
        "\n",
        "            print(\"Training Confusion Matrix:\")\n",
        "            train_cm_dict = confusion_matrix_printout(total_train_tp,\n",
        "                                                        total_train_tn,\n",
        "                                                        total_train_fp,\n",
        "                                                        total_train_fn)\n",
        "            train_cm_dicts.append(train_cm_dict)\n",
        "\n",
        "            avg_train_loss = total_train_loss / len(train_loader)\n",
        "            train_losses.append(avg_train_loss)\n",
        "\n",
        "            # Evaluation phase\n",
        "            model.eval()  # Set the model to evaluation mode\n",
        "            with torch.no_grad():\n",
        "                for inputs, targets in test_loader:\n",
        "                    inputs = inputs.cuda()\n",
        "                    targets = targets.cuda()\n",
        "                    outputs = model(inputs)\n",
        "                    loss = criterion(outputs, targets)\n",
        "                    total_test_loss += loss.item()\n",
        "\n",
        "                    # Calculate Confusion Matrix Statistics\n",
        "                    y_batch = targets.cpu().detach().numpy()\n",
        "                    y_pred  = outputs.cpu().detach().numpy()\n",
        "                    tp, tn, fp, fn = tfpn_calculator(y_batch, y_pred)\n",
        "\n",
        "                    total_test_tp += tp\n",
        "                    total_test_tn += tn\n",
        "                    total_test_fp += fp\n",
        "                    total_test_fn += fn\n",
        "\n",
        "            print(\"Testing Confusion Matrix:\")\n",
        "            test_cm_dict = confusion_matrix_printout(total_test_tp,\n",
        "                                                        total_test_tn,\n",
        "                                                        total_test_fp,\n",
        "                                                        total_test_fn)\n",
        "            test_cm_dicts.append(test_cm_dict)\n",
        "\n",
        "            avg_test_loss = total_test_loss / len(test_loader)\n",
        "            test_losses.append(avg_test_loss)\n",
        "\n",
        "            print(f\"epoch time: {time.time()-start_time:.2f}\"),\n",
        "            start_time = time.time()\n",
        "\n",
        "            print(f'Epoch [{epoch+1}/{num_epochs}], Training Loss: {avg_train_loss:.4f}, test Loss: {avg_test_loss:.4f}')\n",
        "\n",
        "        return train_losses, test_losses, train_cm_dicts, test_cm_dicts\n",
        "    except KeyboardInterrupt:\n",
        "        return train_losses, test_losses, train_cm_dicts, test_cm_dicts"
      ]
    },
    {
      "cell_type": "code",
      "execution_count": 20,
      "metadata": {
        "id": "CGnAgRJNb4uu"
      },
      "outputs": [],
      "source": [
        "model = FullyConnectedModel()\n",
        "if torch.cuda.is_available():\n",
        "    model = model.cuda()"
      ]
    },
    {
      "cell_type": "code",
      "execution_count": 21,
      "metadata": {
        "colab": {
          "base_uri": "https://localhost:8080/",
          "height": 406
        },
        "id": "K00YXiIqER-h",
        "outputId": "ac405410-6c5a-41da-ead1-58d515980d42"
      },
      "outputs": [
        {
          "name": "stdout",
          "output_type": "stream",
          "text": [
            "0\n",
            "Training Confusion Matrix:\n",
            "+-------------+-----------------+---------------------------------+-------------------+\n",
            "| Actual\\Pred |     Positive    |             Negative            |                   |\n",
            "+-------------+-----------------+---------------------------------+-------------------+\n",
            "|   Positive  |      505438     |              492934             |    Recall: 0.51   |\n",
            "|   Negative  |      456619     |              450525             | Specificity: 0.50 |\n",
            "|             | Precision: 0.53 | Negative predictive value: 0.48 |   Accuracy: 0.50  |\n",
            "+-------------+-----------------+---------------------------------+-------------------+\n",
            "Testing Confusion Matrix:\n",
            "+-------------+-----------------+---------------------------------+-------------------+\n",
            "| Actual\\Pred |     Positive    |             Negative            |                   |\n",
            "+-------------+-----------------+---------------------------------+-------------------+\n",
            "|   Positive  |      41875      |              127374             |    Recall: 0.25   |\n",
            "|   Negative  |      38217      |              114754             | Specificity: 0.75 |\n",
            "|             | Precision: 0.52 | Negative predictive value: 0.47 |   Accuracy: 0.49  |\n",
            "+-------------+-----------------+---------------------------------+-------------------+\n",
            "epoch time: 5.54\n",
            "Epoch [1/5], Training Loss: 1.7484, test Loss: 0.5054\n",
            "1\n",
            "Training Confusion Matrix:\n",
            "+-------------+-----------------+---------------------------------+-------------------+\n",
            "| Actual\\Pred |     Positive    |             Negative            |                   |\n",
            "+-------------+-----------------+---------------------------------+-------------------+\n",
            "|   Positive  |      505306     |              493066             |    Recall: 0.51   |\n",
            "|   Negative  |      454006     |              453138             | Specificity: 0.50 |\n",
            "|             | Precision: 0.53 | Negative predictive value: 0.48 |   Accuracy: 0.50  |\n",
            "+-------------+-----------------+---------------------------------+-------------------+\n",
            "Testing Confusion Matrix:\n",
            "+-------------+-----------------+---------------------------------+-------------------+\n",
            "| Actual\\Pred |     Positive    |             Negative            |                   |\n",
            "+-------------+-----------------+---------------------------------+-------------------+\n",
            "|   Positive  |      42072      |              127177             |    Recall: 0.25   |\n",
            "|   Negative  |      38483      |              114488             | Specificity: 0.75 |\n",
            "|             | Precision: 0.52 | Negative predictive value: 0.47 |   Accuracy: 0.49  |\n",
            "+-------------+-----------------+---------------------------------+-------------------+\n",
            "epoch time: 4.55\n",
            "Epoch [2/5], Training Loss: 0.5139, test Loss: 0.8366\n",
            "2\n",
            "Training Confusion Matrix:\n",
            "+-------------+-----------------+---------------------------------+-------------------+\n",
            "| Actual\\Pred |     Positive    |             Negative            |                   |\n",
            "+-------------+-----------------+---------------------------------+-------------------+\n",
            "|   Positive  |      515777     |              482595             |    Recall: 0.52   |\n",
            "|   Negative  |      461218     |              445926             | Specificity: 0.49 |\n",
            "|             | Precision: 0.53 | Negative predictive value: 0.48 |   Accuracy: 0.50  |\n",
            "+-------------+-----------------+---------------------------------+-------------------+\n",
            "Testing Confusion Matrix:\n",
            "+-------------+-----------------+---------------------------------+-------------------+\n",
            "| Actual\\Pred |     Positive    |             Negative            |                   |\n",
            "+-------------+-----------------+---------------------------------+-------------------+\n",
            "|   Positive  |      69263      |              99986              |    Recall: 0.41   |\n",
            "|   Negative  |      59813      |              93158              | Specificity: 0.61 |\n",
            "|             | Precision: 0.54 | Negative predictive value: 0.48 |   Accuracy: 0.50  |\n",
            "+-------------+-----------------+---------------------------------+-------------------+\n",
            "epoch time: 4.63\n",
            "Epoch [3/5], Training Loss: 0.7663, test Loss: 0.4042\n",
            "3\n",
            "Training Confusion Matrix:\n",
            "+-------------+-----------------+---------------------------------+-------------------+\n",
            "| Actual\\Pred |     Positive    |             Negative            |                   |\n",
            "+-------------+-----------------+---------------------------------+-------------------+\n",
            "|   Positive  |      527565     |              470807             |    Recall: 0.53   |\n",
            "|   Negative  |      464300     |              442844             | Specificity: 0.49 |\n",
            "|             | Precision: 0.53 | Negative predictive value: 0.48 |   Accuracy: 0.51  |\n",
            "+-------------+-----------------+---------------------------------+-------------------+\n",
            "Testing Confusion Matrix:\n",
            "+-------------+-----------------+---------------------------------+-------------------+\n",
            "| Actual\\Pred |     Positive    |             Negative            |                   |\n",
            "+-------------+-----------------+---------------------------------+-------------------+\n",
            "|   Positive  |       1209      |              168040             |    Recall: 0.01   |\n",
            "|   Negative  |       977       |              151994             | Specificity: 0.99 |\n",
            "|             | Precision: 0.55 | Negative predictive value: 0.47 |   Accuracy: 0.48  |\n",
            "+-------------+-----------------+---------------------------------+-------------------+\n",
            "epoch time: 4.45\n",
            "Epoch [4/5], Training Loss: 0.4265, test Loss: 0.4410\n",
            "4\n",
            "Training Confusion Matrix:\n",
            "+-------------+-----------------+---------------------------------+-------------------+\n",
            "| Actual\\Pred |     Positive    |             Negative            |                   |\n",
            "+-------------+-----------------+---------------------------------+-------------------+\n",
            "|   Positive  |      525716     |              472656             |    Recall: 0.53   |\n",
            "|   Negative  |      463061     |              444083             | Specificity: 0.49 |\n",
            "|             | Precision: 0.53 | Negative predictive value: 0.48 |   Accuracy: 0.51  |\n",
            "+-------------+-----------------+---------------------------------+-------------------+\n",
            "Testing Confusion Matrix:\n",
            "+-------------+-----------------+---------------------------------+-------------------+\n",
            "| Actual\\Pred |     Positive    |             Negative            |                   |\n",
            "+-------------+-----------------+---------------------------------+-------------------+\n",
            "|   Positive  |      104353     |              64896              |    Recall: 0.62   |\n",
            "|   Negative  |      94892      |              58079              | Specificity: 0.38 |\n",
            "|             | Precision: 0.52 | Negative predictive value: 0.47 |   Accuracy: 0.50  |\n",
            "+-------------+-----------------+---------------------------------+-------------------+\n",
            "epoch time: 4.68\n",
            "Epoch [5/5], Training Loss: 0.4275, test Loss: 0.4050\n"
          ]
        }
      ],
      "source": [
        "train_losses, test_losses, train_cm_dicts, test_cm_dicts = train_model(model)\n",
        "train_accuracy_lst = [x['accuracy'] for x in train_cm_dicts]\n",
        "test_accuracy_lst = [x['accuracy'] for x in test_cm_dicts]"
      ]
    },
    {
      "cell_type": "code",
      "execution_count": 22,
      "metadata": {
        "id": "fdySRWxM4Mhx"
      },
      "outputs": [
        {
          "data": {
            "image/png": "[encoded data removed]",
            "text/plain": [
              "<Figure size 1000x600 with 2 Axes>"
            ]
          },
          "metadata": {},
          "output_type": "display_data"
        }
      ],
      "source": [
        "loss_n_accuracy_plt(train_losses,test_losses, train_accuracy_lst, test_accuracy_lst)"
      ]
    },
    {
      "cell_type": "markdown",
      "metadata": {
        "id": "bmSZldW58uIn"
      },
      "source": [
        "#### LSTM with Linear Output"
      ]
    },
    {
      "cell_type": "code",
      "execution_count": 23,
      "metadata": {
        "id": "21swRr5uArpV"
      },
      "outputs": [],
      "source": [
        "class LSTMModel(nn.Module):\n",
        "    def __init__(self, feature_num, hidden_layer_size, pred_window):\n",
        "        super(LSTMModel, self).__init__()\n",
        "        self.hidden_layer_size = hidden_layer_size\n",
        "        self.lstm = nn.LSTM(input_size=feature_num,\n",
        "                            hidden_size=hidden_layer_size,\n",
        "                            batch_first=True)\n",
        "        self.linear = nn.Linear(hidden_layer_size, pred_window)\n",
        "\n",
        "    def forward(self, input_seq):\n",
        "        lstm_out, _ = self.lstm(input_seq)\n",
        "        predictions = self.linear(lstm_out[:, -1, :])  # Use only the last timestep's output\n",
        "        return predictions"
      ]
    },
    {
      "cell_type": "code",
      "execution_count": 24,
      "metadata": {
        "id": "_dG7OkQo-a-F"
      },
      "outputs": [],
      "source": [
        "model = LSTMModel(feature_num = feature_num, hidden_layer_size = 64, pred_window = 4)\n",
        "if torch.cuda.is_available():\n",
        "    model = model.cuda()"
      ]
    },
    {
      "cell_type": "code",
      "execution_count": 25,
      "metadata": {
        "id": "gUookYgx-lv3"
      },
      "outputs": [
        {
          "name": "stdout",
          "output_type": "stream",
          "text": [
            "0\n",
            "Training Confusion Matrix:\n",
            "+-------------+-----------------+---------------------------------+-------------------+\n",
            "| Actual\\Pred |     Positive    |             Negative            |                   |\n",
            "+-------------+-----------------+---------------------------------+-------------------+\n",
            "|   Positive  |      502134     |              496238             |    Recall: 0.50   |\n",
            "|   Negative  |      441345     |              465799             | Specificity: 0.51 |\n",
            "|             | Precision: 0.53 | Negative predictive value: 0.48 |   Accuracy: 0.51  |\n",
            "+-------------+-----------------+---------------------------------+-------------------+\n",
            "Testing Confusion Matrix:\n",
            "+-------------+-----------------+---------------------------------+-------------------+\n",
            "| Actual\\Pred |     Positive    |             Negative            |                   |\n",
            "+-------------+-----------------+---------------------------------+-------------------+\n",
            "|   Positive  |      149965     |              19284              |    Recall: 0.89   |\n",
            "|   Negative  |      135202     |              17769              | Specificity: 0.12 |\n",
            "|             | Precision: 0.53 | Negative predictive value: 0.48 |   Accuracy: 0.52  |\n",
            "+-------------+-----------------+---------------------------------+-------------------+\n",
            "epoch time: 6.00\n",
            "Epoch [1/5], Training Loss: 0.4247, test Loss: 0.4019\n",
            "1\n",
            "Training Confusion Matrix:\n",
            "+-------------+-----------------+---------------------------------+-------------------+\n",
            "| Actual\\Pred |     Positive    |             Negative            |                   |\n",
            "+-------------+-----------------+---------------------------------+-------------------+\n",
            "|   Positive  |      519307     |              479065             |    Recall: 0.52   |\n",
            "|   Negative  |      454236     |              452908             | Specificity: 0.50 |\n",
            "|             | Precision: 0.53 | Negative predictive value: 0.49 |   Accuracy: 0.51  |\n",
            "+-------------+-----------------+---------------------------------+-------------------+\n",
            "Testing Confusion Matrix:\n",
            "+-------------+-----------------+---------------------------------+-------------------+\n",
            "| Actual\\Pred |     Positive    |             Negative            |                   |\n",
            "+-------------+-----------------+---------------------------------+-------------------+\n",
            "|   Positive  |      75027      |              94222              |    Recall: 0.44   |\n",
            "|   Negative  |      65600      |              87371              | Specificity: 0.57 |\n",
            "|             | Precision: 0.53 | Negative predictive value: 0.48 |   Accuracy: 0.50  |\n",
            "+-------------+-----------------+---------------------------------+-------------------+\n",
            "epoch time: 5.48\n",
            "Epoch [2/5], Training Loss: 0.4243, test Loss: 0.4020\n",
            "2\n",
            "Training Confusion Matrix:\n",
            "+-------------+-----------------+---------------------------------+-------------------+\n",
            "| Actual\\Pred |     Positive    |             Negative            |                   |\n",
            "+-------------+-----------------+---------------------------------+-------------------+\n",
            "|   Positive  |      507882     |              490490             |    Recall: 0.51   |\n",
            "|   Negative  |      443268     |              463876             | Specificity: 0.51 |\n",
            "|             | Precision: 0.53 | Negative predictive value: 0.49 |   Accuracy: 0.51  |\n",
            "+-------------+-----------------+---------------------------------+-------------------+\n",
            "Testing Confusion Matrix:\n",
            "+-------------+-----------------+---------------------------------+-------------------+\n",
            "| Actual\\Pred |     Positive    |             Negative            |                   |\n",
            "+-------------+-----------------+---------------------------------+-------------------+\n",
            "|   Positive  |      85364      |              83885              |    Recall: 0.50   |\n",
            "|   Negative  |      72191      |              80780              | Specificity: 0.53 |\n",
            "|             | Precision: 0.54 | Negative predictive value: 0.49 |   Accuracy: 0.52  |\n",
            "+-------------+-----------------+---------------------------------+-------------------+\n",
            "epoch time: 5.49\n",
            "Epoch [3/5], Training Loss: 0.4242, test Loss: 0.4019\n",
            "3\n",
            "Training Confusion Matrix:\n",
            "+-------------+-----------------+---------------------------------+-------------------+\n",
            "| Actual\\Pred |     Positive    |             Negative            |                   |\n",
            "+-------------+-----------------+---------------------------------+-------------------+\n",
            "|   Positive  |      513266     |              485106             |    Recall: 0.51   |\n",
            "|   Negative  |      448758     |              458386             | Specificity: 0.51 |\n",
            "|             | Precision: 0.53 | Negative predictive value: 0.49 |   Accuracy: 0.51  |\n",
            "+-------------+-----------------+---------------------------------+-------------------+\n",
            "Testing Confusion Matrix:\n",
            "+-------------+-----------------+---------------------------------+-------------------+\n",
            "| Actual\\Pred |     Positive    |             Negative            |                   |\n",
            "+-------------+-----------------+---------------------------------+-------------------+\n",
            "|   Positive  |      78051      |              91198              |    Recall: 0.46   |\n",
            "|   Negative  |      65645      |              87326              | Specificity: 0.57 |\n",
            "|             | Precision: 0.54 | Negative predictive value: 0.49 |   Accuracy: 0.51  |\n",
            "+-------------+-----------------+---------------------------------+-------------------+\n",
            "epoch time: 5.47\n",
            "Epoch [4/5], Training Loss: 0.4244, test Loss: 0.4023\n",
            "4\n",
            "Training Confusion Matrix:\n",
            "+-------------+-----------------+---------------------------------+-------------------+\n",
            "| Actual\\Pred |     Positive    |             Negative            |                   |\n",
            "+-------------+-----------------+---------------------------------+-------------------+\n",
            "|   Positive  |      501277     |              497095             |    Recall: 0.50   |\n",
            "|   Negative  |      438643     |              468501             | Specificity: 0.52 |\n",
            "|             | Precision: 0.53 | Negative predictive value: 0.49 |   Accuracy: 0.51  |\n",
            "+-------------+-----------------+---------------------------------+-------------------+\n",
            "Testing Confusion Matrix:\n",
            "+-------------+-----------------+---------------------------------+-------------------+\n",
            "| Actual\\Pred |     Positive    |             Negative            |                   |\n",
            "+-------------+-----------------+---------------------------------+-------------------+\n",
            "|   Positive  |      80471      |              88778              |    Recall: 0.48   |\n",
            "|   Negative  |      70057      |              82914              | Specificity: 0.54 |\n",
            "|             | Precision: 0.53 | Negative predictive value: 0.48 |   Accuracy: 0.51  |\n",
            "+-------------+-----------------+---------------------------------+-------------------+\n",
            "epoch time: 5.29\n",
            "Epoch [5/5], Training Loss: 0.4243, test Loss: 0.4018\n"
          ]
        }
      ],
      "source": [
        "train_losses, test_losses, train_cm_dicts, test_cm_dicts = train_model(model)\n",
        "train_accuracy_lst = [x['accuracy'] for x in train_cm_dicts]\n",
        "test_accuracy_lst = [x['accuracy'] for x in test_cm_dicts]"
      ]
    },
    {
      "cell_type": "code",
      "execution_count": 26,
      "metadata": {
        "id": "KfoOAyJ7_KMj"
      },
      "outputs": [
        {
          "data": {
            "image/png": "[encoded data removed]",
            "text/plain": [
              "<Figure size 1000x600 with 2 Axes>"
            ]
          },
          "metadata": {},
          "output_type": "display_data"
        }
      ],
      "source": [
        "loss_n_accuracy_plt(train_losses,test_losses, train_accuracy_lst, test_accuracy_lst)"
      ]
    },
    {
      "cell_type": "code",
      "execution_count": null,
      "metadata": {
        "id": "CO2ojyHu_ibx"
      },
      "outputs": [],
      "source": []
    }
  ],
  "metadata": {
    "accelerator": "TPU",
    "colab": {
      "collapsed_sections": [
        "sg6q5sTdQZJ5"
      ],
      "provenance": []
    },
    "kernelspec": {
      "display_name": "Python 3",
      "name": "python3"
    },
    "language_info": {
      "codemirror_mode": {
        "name": "ipython",
        "version": 3
      },
      "file_extension": ".py",
      "mimetype": "text/x-python",
      "name": "python",
      "nbconvert_exporter": "python",
      "pygments_lexer": "ipython3",
      "version": "3.11.5"
    }
  },
  "nbformat": 4,
  "nbformat_minor": 0
}
