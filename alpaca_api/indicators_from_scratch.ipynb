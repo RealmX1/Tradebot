{
 "cells": [
  {
   "attachments": {},
   "cell_type": "markdown",
   "metadata": {},
   "source": [
    "Real time update of statistics is not needed when\n",
    "1) the system only manipulates afew stocks,\n",
    "2) the system only manipulates a few indicators,\n",
    "3) the system only aims at predicting a single time percision,\n",
    "since the calculation of 23 indicators for entire week's data on a single stock only takes 0.1 second.\n",
    "\n",
    "But as time goes on, this might become crucial.\n",
    "\n",
    "Use help(ta.function_name) in bash python to learn more about each indicator's calculation."
   ]
  },
  {
   "cell_type": "code",
   "execution_count": 61,
   "metadata": {},
   "outputs": [],
   "source": [
    "import pandas as pd\n",
    "import numpy as np\n",
    "import pandas_ta as ta\n",
    "\n",
    "pd.options.display.max_rows = 1000"
   ]
  },
  {
   "cell_type": "code",
   "execution_count": 13,
   "metadata": {},
   "outputs": [],
   "source": [
    "df = pd.read_csv('data/csv/bar_set_huge_20200101_20230412_BABA_indicator.csv', index_col = ['symbol', 'timestamp'])"
   ]
  },
  {
   "cell_type": "code",
   "execution_count": 35,
   "metadata": {},
   "outputs": [
    {
     "name": "stdout",
     "output_type": "stream",
     "text": [
      "<class 'pandas.core.series.Series'>\n",
      "float64\n",
      "<class 'pandas.core.frame.DataFrame'>\n",
      "close    float64\n",
      "dtype: object\n"
     ]
    }
   ],
   "source": [
    "close = df['close']\n",
    "close_df = pd.DataFrame({'close': df['close']})\n",
    "\n",
    "\n",
    "print(type(close))\n",
    "print(close.dtypes)\n",
    "print(type(close_df))\n",
    "print(close_df.dtypes)"
   ]
  },
  {
   "cell_type": "code",
   "execution_count": 49,
   "metadata": {},
   "outputs": [
    {
     "name": "stdout",
     "output_type": "stream",
     "text": [
      "                                     close\n",
      "symbol timestamp                          \n",
      "BABA   2020-07-27 13:57:00+00:00  0.000000\n",
      "       2020-07-27 13:58:00+00:00  0.098182\n",
      "       2020-07-27 13:59:00+00:00 -0.242851\n",
      "       2020-07-27 14:00:00+00:00 -0.505515\n",
      "       2020-07-27 14:01:00+00:00 -0.536330\n",
      "...                                    ...\n",
      "       2023-04-11 19:55:00+00:00  0.042303\n",
      "       2023-04-11 19:56:00+00:00  0.059157\n",
      "       2023-04-11 19:57:00+00:00  0.146583\n",
      "       2023-04-11 19:58:00+00:00  0.074932\n",
      "       2023-04-11 19:59:00+00:00  0.110399\n",
      "\n",
      "[243399 rows x 1 columns]\n"
     ]
    }
   ],
   "source": [
    "# EMA\n",
    "length=10\n",
    "def EMA(close, length = 10):\n",
    "    ema = close.ewm(span=length, adjust=False).mean()\n",
    "    return ema\n",
    "\n",
    "ema = EMA(close_df, length)\n",
    "# adjust=False\n",
    "# sma=True\n",
    "# if sma:\n",
    "#     sma_nth = close[0:length].sum() / length\n",
    "#     close[:length - 1] = np.NaN\n",
    "#     close.iloc[length - 1] = sma_nth\n",
    "# EMA = close.ewm(span=length, adjust=adjust).mean()\n",
    "print(ema-close_df)"
   ]
  },
  {
   "cell_type": "code",
   "execution_count": 51,
   "metadata": {},
   "outputs": [
    {
     "name": "stdout",
     "output_type": "stream",
     "text": [
      "                                     close\n",
      "symbol timestamp                          \n",
      "BABA   2020-07-27 13:57:00+00:00  0.000000\n",
      "       2020-07-27 13:58:00+00:00  0.080331\n",
      "       2020-07-27 13:59:00+00:00 -0.213302\n",
      "       2020-07-27 14:00:00+00:00 -0.389426\n",
      "       2020-07-27 14:01:00+00:00 -0.343834\n",
      "...                                    ...\n",
      "       2023-04-11 19:55:00+00:00 -0.014854\n",
      "       2023-04-11 19:56:00+00:00  0.001636\n",
      "       2023-04-11 19:57:00+00:00  0.072869\n",
      "       2023-04-11 19:58:00+00:00  0.000996\n",
      "       2023-04-11 19:59:00+00:00  0.029834\n",
      "\n",
      "[243399 rows x 1 columns]\n"
     ]
    }
   ],
   "source": [
    "# DEMA\n",
    "def DEMA(close = None, ema = None, length = 10):\n",
    "    if close is None and ema is None:\n",
    "        print(\"Error: one of close or ema must be provided\")\n",
    "        return None\n",
    "\n",
    "    if ema is None:\n",
    "        ema1 = EMA(close, length)\n",
    "    else:\n",
    "        ema1 = ema\n",
    "    ema2 = EMA(ema1, length)\n",
    "    dema = 2 * ema1 - ema2\n",
    "    return dema\n",
    "\n",
    "\n",
    "dema = DEMA(ema = ema)\n",
    "print(dema - close_df)"
   ]
  },
  {
   "cell_type": "code",
   "execution_count": 52,
   "metadata": {},
   "outputs": [
    {
     "name": "stdout",
     "output_type": "stream",
     "text": [
      "                                     close\n",
      "symbol timestamp                          \n",
      "BABA   2020-07-27 13:57:00+00:00  0.000000\n",
      "       2020-07-27 13:58:00+00:00  0.166341\n",
      "       2020-07-27 13:59:00+00:00 -0.358331\n",
      "       2020-07-27 14:00:00+00:00 -0.946538\n",
      "       2020-07-27 14:01:00+00:00 -1.252227\n",
      "...                                    ...\n",
      "       2023-04-11 19:55:00+00:00  0.207299\n",
      "       2023-04-11 19:56:00+00:00  0.226719\n",
      "       2023-04-11 19:57:00+00:00  0.376882\n",
      "       2023-04-11 19:58:00+00:00  0.304411\n",
      "       2023-04-11 19:59:00+00:00  0.363796\n",
      "\n",
      "[243399 rows x 1 columns]\n"
     ]
    }
   ],
   "source": [
    "# TEMA\n",
    "def TEMA(ema1, ema2, length = 10):\n",
    "    ema3 = EMA(ema2, length)\n",
    "    tema = 3 * (ema1 - ema2) + ema3\n",
    "    return tema\n",
    "\n",
    "tema = TEMA(ema1 = ema, ema2 = dema)\n",
    "print(tema - close_df)"
   ]
  },
  {
   "cell_type": "code",
   "execution_count": 56,
   "metadata": {},
   "outputs": [],
   "source": [
    "def variance(close, length = 300):\n",
    "    var = close.rolling(length).var()\n",
    "    return var"
   ]
  },
  {
   "cell_type": "code",
   "execution_count": 57,
   "metadata": {},
   "outputs": [
    {
     "name": "stdout",
     "output_type": "stream",
     "text": [
      "                                     close\n",
      "symbol timestamp                          \n",
      "BABA   2020-07-27 13:57:00+00:00       NaN\n",
      "       2020-07-27 13:58:00+00:00       NaN\n",
      "       2020-07-27 13:59:00+00:00       NaN\n",
      "       2020-07-27 14:00:00+00:00       NaN\n",
      "       2020-07-27 14:01:00+00:00       NaN\n",
      "...                                    ...\n",
      "       2023-04-11 19:55:00+00:00  0.042230\n",
      "       2023-04-11 19:56:00+00:00  0.046455\n",
      "       2023-04-11 19:57:00+00:00  0.069530\n",
      "       2023-04-11 19:58:00+00:00  0.067874\n",
      "       2023-04-11 19:59:00+00:00  0.071881\n",
      "\n",
      "[243399 rows x 1 columns]\n"
     ]
    }
   ],
   "source": [
    "def STDEV(close, length=30, ddof=None, talib=None, offset=None, **kwargs):\n",
    "    stdev = variance(close, length).apply(np.sqrt)\n",
    "    return stdev\n",
    "\n",
    "std = STDEV(close_df, length=10)\n",
    "print(std)"
   ]
  },
  {
   "cell_type": "code",
   "execution_count": 60,
   "metadata": {},
   "outputs": [
    {
     "name": "stdout",
     "output_type": "stream",
     "text": [
      "                                       close\n",
      "symbol timestamp                            \n",
      "BABA   2020-07-27 13:57:00+00:00         NaN\n",
      "       2020-07-27 13:58:00+00:00         NaN\n",
      "       2020-07-27 13:59:00+00:00         NaN\n",
      "       2020-07-27 14:00:00+00:00         NaN\n",
      "       2020-07-27 14:01:00+00:00  248.801670\n",
      "...                                      ...\n",
      "       2023-04-11 19:55:00+00:00   99.950532\n",
      "       2023-04-11 19:56:00+00:00   99.937305\n",
      "       2023-04-11 19:57:00+00:00   99.895600\n",
      "       2023-04-11 19:58:00+00:00   99.873930\n",
      "       2023-04-11 19:59:00+00:00   99.844132\n",
      "\n",
      "[243399 rows x 1 columns]\n",
      "                                    close\n",
      "symbol timestamp                         \n",
      "BABA   2020-07-27 13:57:00+00:00      NaN\n",
      "       2020-07-27 13:58:00+00:00      NaN\n",
      "       2020-07-27 13:59:00+00:00      NaN\n",
      "       2020-07-27 14:00:00+00:00      NaN\n",
      "       2020-07-27 14:01:00+00:00  248.961\n",
      "...                                   ...\n",
      "       2023-04-11 19:55:00+00:00   99.951\n",
      "       2023-04-11 19:56:00+00:00   99.938\n",
      "       2023-04-11 19:57:00+00:00   99.900\n",
      "       2023-04-11 19:58:00+00:00   99.878\n",
      "       2023-04-11 19:59:00+00:00   99.849\n",
      "\n",
      "[243399 rows x 1 columns]\n",
      "                                       close\n",
      "symbol timestamp                            \n",
      "BABA   2020-07-27 13:57:00+00:00         NaN\n",
      "       2020-07-27 13:58:00+00:00         NaN\n",
      "       2020-07-27 13:59:00+00:00         NaN\n",
      "       2020-07-27 14:00:00+00:00         NaN\n",
      "       2020-07-27 14:01:00+00:00  249.120330\n",
      "...                                      ...\n",
      "       2023-04-11 19:55:00+00:00   99.951468\n",
      "       2023-04-11 19:56:00+00:00   99.938695\n",
      "       2023-04-11 19:57:00+00:00   99.904400\n",
      "       2023-04-11 19:58:00+00:00   99.882070\n",
      "       2023-04-11 19:59:00+00:00   99.853868\n",
      "\n",
      "[243399 rows x 1 columns]\n",
      "                                     close\n",
      "symbol timestamp                          \n",
      "BABA   2020-07-27 13:57:00+00:00       NaN\n",
      "       2020-07-27 13:58:00+00:00       NaN\n",
      "       2020-07-27 13:59:00+00:00       NaN\n",
      "       2020-07-27 14:00:00+00:00       NaN\n",
      "       2020-07-27 14:01:00+00:00  0.001280\n",
      "...                                    ...\n",
      "       2023-04-11 19:55:00+00:00  0.000009\n",
      "       2023-04-11 19:56:00+00:00  0.000014\n",
      "       2023-04-11 19:57:00+00:00  0.000088\n",
      "       2023-04-11 19:58:00+00:00  0.000081\n",
      "       2023-04-11 19:59:00+00:00  0.000097\n",
      "\n",
      "[243399 rows x 1 columns]\n",
      "                                      close\n",
      "symbol timestamp                           \n",
      "BABA   2020-07-27 13:57:00+00:00        NaN\n",
      "       2020-07-27 13:58:00+00:00        NaN\n",
      "       2020-07-27 13:59:00+00:00        NaN\n",
      "       2020-07-27 14:00:00+00:00        NaN\n",
      "       2020-07-27 14:01:00+00:00   2.003170\n",
      "...                                     ...\n",
      "       2023-04-11 19:55:00+00:00 -16.612295\n",
      "       2023-04-11 19:56:00+00:00 -23.241003\n",
      "       2023-04-11 19:57:00+00:00 -12.568181\n",
      "       2023-04-11 19:58:00+00:00  -4.168305\n",
      "       2023-04-11 19:59:00+00:00  -6.587827\n",
      "\n",
      "[243399 rows x 1 columns]\n"
     ]
    }
   ],
   "source": [
    "def BBANDS(close, length=5, std=2, mamode='sma'):\n",
    "    if mamode == 'sma':\n",
    "        mid_band = close.rolling(length).mean()\n",
    "    elif mamode == 'ema':\n",
    "        mid_band = EMA(close, length)\n",
    "    std = STDEV(close, length)\n",
    "    upper_band = mid_band + std * std\n",
    "    lower_band = mid_band - std * std\n",
    "    bandwidth = (upper_band - lower_band) / mid_band\n",
    "    percent = (close - lower_band) / (upper_band - lower_band)\n",
    "    return lower_band, mid_band, upper_band, bandwidth, percent\n",
    "\n",
    "lower, mid, upper, bandwidth, percent = BBANDS(close_df)\n",
    "print(lower)\n",
    "print(mid)\n",
    "print(upper)\n",
    "print(bandwidth)\n",
    "print(percent)"
   ]
  },
  {
   "cell_type": "code",
   "execution_count": null,
   "metadata": {},
   "outputs": [],
   "source": []
  }
 ],
 "metadata": {
  "kernelspec": {
   "display_name": "tf-wsl",
   "language": "python",
   "name": "python3"
  },
  "language_info": {
   "codemirror_mode": {
    "name": "ipython",
    "version": 3
   },
   "file_extension": ".py",
   "mimetype": "text/x-python",
   "name": "python",
   "nbconvert_exporter": "python",
   "pygments_lexer": "ipython3",
   "version": "3.8.16"
  },
  "orig_nbformat": 4
 },
 "nbformat": 4,
 "nbformat_minor": 2
}
